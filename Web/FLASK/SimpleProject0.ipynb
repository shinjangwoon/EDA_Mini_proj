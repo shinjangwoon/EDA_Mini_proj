{
 "cells": [
  {
   "cell_type": "markdown",
   "id": "6b8d9aeb",
   "metadata": {},
   "source": [
    "## 참고: https://hleecaster.com/ml-linear-regression-example/"
   ]
  },
  {
   "cell_type": "markdown",
   "id": "d24584ff",
   "metadata": {},
   "source": [
    "## 라이브러리 설치, 호출"
   ]
  },
  {
   "cell_type": "code",
   "execution_count": null,
   "id": "5b3aa736",
   "metadata": {},
   "outputs": [],
   "source": [
    "# pip install tensorflow"
   ]
  },
  {
   "cell_type": "code",
   "execution_count": null,
   "id": "c10dfacc",
   "metadata": {},
   "outputs": [],
   "source": [
    "# pip install statsmodels"
   ]
  },
  {
   "cell_type": "code",
   "execution_count": 1,
   "id": "4a912728",
   "metadata": {},
   "outputs": [],
   "source": [
    "import tensorflow as tf\n",
    "import pandas as pd\n",
    "import numpy as np\n",
    "import matplotlib.pyplot as plt\n",
    "import statsmodels.api as sm\n",
    "\n",
    "from tensorflow.keras.models import Sequential, load_model\n",
    "from tensorflow.keras.layers import Dense\n",
    "from tensorflow.keras.optimizers import SGD, Adam\n",
    "from tensorflow.keras.callbacks import ModelCheckpoint, TensorBoard, ReduceLROnPlateau"
   ]
  },
  {
   "cell_type": "markdown",
   "id": "774d835d",
   "metadata": {},
   "source": [
    "## 데이터 다운로드 (특별할인 판매)"
   ]
  },
  {
   "cell_type": "code",
   "execution_count": 2,
   "id": "3b6fe09e",
   "metadata": {},
   "outputs": [
    {
     "name": "stdout",
     "output_type": "stream",
     "text": [
      "         date weekday  busy_day  high_temperature  special_sales\n",
      "0  2002-08-05     Mon         0                28              1\n",
      "1  2002-08-06     Tue         0                24              0\n",
      "2  2002-08-07     Wed         1                26              0\n",
      "3  2002-08-08     Thu         0                24              0\n",
      "4  2002-08-09     Fri         0                23              0\n",
      "(21, 5)\n"
     ]
    }
   ],
   "source": [
    "import pandas as pd\n",
    "df = pd.read_csv('https://raw.githubusercontent.com/jmnote/zdata/master/logistic-regression/special-sales.csv')\n",
    "print(df.head())\n",
    "print(df.shape)"
   ]
  },
  {
   "cell_type": "markdown",
   "id": "fae03042",
   "metadata": {},
   "source": [
    "## Input, Feature 설정"
   ]
  },
  {
   "cell_type": "code",
   "execution_count": 3,
   "id": "cbcf321e",
   "metadata": {},
   "outputs": [],
   "source": [
    "Label = df['special_sales']\n",
    "InputFeature = df[['busy_day','high_temperature']]"
   ]
  },
  {
   "cell_type": "markdown",
   "id": "6b9edb19",
   "metadata": {},
   "source": [
    "## Keras Logit 모델 fitting"
   ]
  },
  {
   "cell_type": "code",
   "execution_count": 10,
   "id": "121e6d12",
   "metadata": {},
   "outputs": [],
   "source": [
    "model = Sequential()\n",
    "model.add(Dense(3, activation='linear', input_shape=(2,)))\n",
    "model.add(Dense(3, activation='linear'))\n",
    "model.add(Dense(1, activation='sigmoid'))\n",
    "\n",
    "model.compile(loss='binary_crossentropy',\n",
    "              optimizer=Adam(learning_rate=0.01), metrics=['accuracy'])"
   ]
  },
  {
   "cell_type": "markdown",
   "id": "7d2abf85",
   "metadata": {},
   "source": [
    "## Keras 모델 살펴보기"
   ]
  },
  {
   "cell_type": "code",
   "execution_count": 11,
   "id": "b2b1df1f",
   "metadata": {},
   "outputs": [
    {
     "name": "stdout",
     "output_type": "stream",
     "text": [
      "Model: \"sequential_2\"\n",
      "_________________________________________________________________\n",
      " Layer (type)                Output Shape              Param #   \n",
      "=================================================================\n",
      " dense_5 (Dense)             (None, 3)                 9         \n",
      "                                                                 \n",
      " dense_6 (Dense)             (None, 3)                 12        \n",
      "                                                                 \n",
      " dense_7 (Dense)             (None, 1)                 4         \n",
      "                                                                 \n",
      "=================================================================\n",
      "Total params: 25\n",
      "Trainable params: 25\n",
      "Non-trainable params: 0\n",
      "_________________________________________________________________\n"
     ]
    }
   ],
   "source": [
    "model.summary()"
   ]
  },
  {
   "cell_type": "markdown",
   "id": "fef88762",
   "metadata": {},
   "source": [
    "## Call-back 함수\n",
    "## 모델 학습"
   ]
  },
  {
   "cell_type": "code",
   "execution_count": 12,
   "id": "e84e8e7b",
   "metadata": {},
   "outputs": [],
   "source": [
    "# Call-back 함수\n",
    "# CheckPoint: Epoch 마다 validation 성능을 검증하여, best performance 일 경우 저장\n",
    "CP = ModelCheckpoint(filepath='-{epoch:03d}-{loss:.4f}-{accuracy:.4f}.hdf5',\n",
    "            monitor='loss', verbose=1, save_best_only=True, mode='min')\n",
    "\n",
    "# Learning Rate 줄여나가기\n",
    "LR = ReduceLROnPlateau(monitor='loss',factor=0.8,patience=3, verbose=1, min_lr=1e-8)\n",
    "\n",
    "CALLBACK = [CP, LR]"
   ]
  },
  {
   "cell_type": "code",
   "execution_count": 13,
   "id": "f681b6f8",
   "metadata": {},
   "outputs": [
    {
     "name": "stdout",
     "output_type": "stream",
     "text": [
      "Epoch 1/100\n",
      "1/7 [===>..........................] - ETA: 6s - loss: 4.9460 - accuracy: 0.3333\n",
      "Epoch 1: loss improved from inf to 2.38542, saving model to -001-2.3854-0.4286.hdf5\n",
      "7/7 [==============================] - 1s 10ms/step - loss: 2.3854 - accuracy: 0.4286 - lr: 0.0100\n",
      "Epoch 2/100\n",
      "1/7 [===>..........................] - ETA: 0s - loss: 0.7319 - accuracy: 0.6667\n",
      "Epoch 2: loss improved from 2.38542 to 1.42925, saving model to -002-1.4293-0.6190.hdf5\n",
      "7/7 [==============================] - 0s 12ms/step - loss: 1.4293 - accuracy: 0.6190 - lr: 0.0100\n",
      "Epoch 3/100\n",
      "1/7 [===>..........................] - ETA: 0s - loss: 0.0623 - accuracy: 1.0000\n",
      "Epoch 3: loss improved from 1.42925 to 0.76408, saving model to -003-0.7641-0.6190.hdf5\n",
      "7/7 [==============================] - 0s 10ms/step - loss: 0.7641 - accuracy: 0.6190 - lr: 0.0100\n",
      "Epoch 4/100\n",
      "1/7 [===>..........................] - ETA: 0s - loss: 0.7355 - accuracy: 0.3333\n",
      "Epoch 4: loss did not improve from 0.76408\n",
      "7/7 [==============================] - 0s 4ms/step - loss: 0.8284 - accuracy: 0.3810 - lr: 0.0100\n",
      "Epoch 5/100\n",
      "1/7 [===>..........................] - ETA: 0s - loss: 0.4129 - accuracy: 1.0000\n",
      "Epoch 5: loss improved from 0.76408 to 0.61370, saving model to -005-0.6137-0.6667.hdf5\n",
      "7/7 [==============================] - 0s 12ms/step - loss: 0.6137 - accuracy: 0.6667 - lr: 0.0100\n",
      "Epoch 6/100\n",
      "1/7 [===>..........................] - ETA: 0s - loss: 0.6360 - accuracy: 0.6667\n",
      "Epoch 6: loss did not improve from 0.61370\n",
      "7/7 [==============================] - 0s 4ms/step - loss: 0.7208 - accuracy: 0.6190 - lr: 0.0100\n",
      "Epoch 7/100\n",
      "1/7 [===>..........................] - ETA: 0s - loss: 0.5647 - accuracy: 0.6667\n",
      "Epoch 7: loss did not improve from 0.61370\n",
      "7/7 [==============================] - 0s 4ms/step - loss: 0.6328 - accuracy: 0.6190 - lr: 0.0100\n",
      "Epoch 8/100\n",
      "1/7 [===>..........................] - ETA: 0s - loss: 0.5705 - accuracy: 1.0000\n",
      "Epoch 8: loss did not improve from 0.61370\n",
      "\n",
      "Epoch 8: ReduceLROnPlateau reducing learning rate to 0.007999999821186066.\n",
      "7/7 [==============================] - 0s 5ms/step - loss: 0.6407 - accuracy: 0.5714 - lr: 0.0100\n",
      "Epoch 9/100\n",
      "1/7 [===>..........................] - ETA: 0s - loss: 0.5282 - accuracy: 0.6667\n",
      "Epoch 9: loss did not improve from 0.61370\n",
      "7/7 [==============================] - 0s 4ms/step - loss: 0.6395 - accuracy: 0.6190 - lr: 0.0080\n",
      "Epoch 10/100\n",
      "1/7 [===>..........................] - ETA: 0s - loss: 0.5235 - accuracy: 0.6667\n",
      "Epoch 10: loss did not improve from 0.61370\n",
      "7/7 [==============================] - 0s 6ms/step - loss: 0.6184 - accuracy: 0.6667 - lr: 0.0080\n",
      "Epoch 11/100\n",
      "1/7 [===>..........................] - ETA: 0s - loss: 0.6827 - accuracy: 0.6667\n",
      "Epoch 11: loss improved from 0.61370 to 0.60352, saving model to -011-0.6035-0.7143.hdf5\n",
      "7/7 [==============================] - 0s 12ms/step - loss: 0.6035 - accuracy: 0.7143 - lr: 0.0080\n",
      "Epoch 12/100\n",
      "1/7 [===>..........................] - ETA: 0s - loss: 0.4938 - accuracy: 0.6667\n",
      "Epoch 12: loss did not improve from 0.60352\n",
      "7/7 [==============================] - 0s 5ms/step - loss: 0.6458 - accuracy: 0.6190 - lr: 0.0080\n",
      "Epoch 13/100\n",
      "1/7 [===>..........................] - ETA: 0s - loss: 0.9545 - accuracy: 0.0000e+00\n",
      "Epoch 13: loss did not improve from 0.60352\n",
      "7/7 [==============================] - 0s 4ms/step - loss: 0.7763 - accuracy: 0.3810 - lr: 0.0080\n",
      "Epoch 14/100\n",
      "1/7 [===>..........................] - ETA: 0s - loss: 0.5765 - accuracy: 0.6667\n",
      "Epoch 14: loss did not improve from 0.60352\n",
      "\n",
      "Epoch 14: ReduceLROnPlateau reducing learning rate to 0.006399999558925629.\n",
      "7/7 [==============================] - 0s 6ms/step - loss: 0.6745 - accuracy: 0.5714 - lr: 0.0080\n",
      "Epoch 15/100\n",
      "1/7 [===>..........................] - ETA: 0s - loss: 0.8262 - accuracy: 0.3333\n",
      "Epoch 15: loss did not improve from 0.60352\n",
      "7/7 [==============================] - 0s 5ms/step - loss: 0.6440 - accuracy: 0.5238 - lr: 0.0064\n",
      "Epoch 16/100\n",
      "1/7 [===>..........................] - ETA: 0s - loss: 0.8446 - accuracy: 0.3333\n",
      "Epoch 16: loss improved from 0.60352 to 0.59779, saving model to -016-0.5978-0.7619.hdf5\n",
      "7/7 [==============================] - 0s 11ms/step - loss: 0.5978 - accuracy: 0.7619 - lr: 0.0064\n",
      "Epoch 17/100\n",
      "1/7 [===>..........................] - ETA: 0s - loss: 0.5417 - accuracy: 0.6667\n",
      "Epoch 17: loss did not improve from 0.59779\n",
      "7/7 [==============================] - 0s 4ms/step - loss: 0.6032 - accuracy: 0.5714 - lr: 0.0064\n",
      "Epoch 18/100\n",
      "1/7 [===>..........................] - ETA: 0s - loss: 0.5718 - accuracy: 0.6667\n",
      "Epoch 18: loss improved from 0.59779 to 0.58306, saving model to -018-0.5831-0.7143.hdf5\n",
      "7/7 [==============================] - 0s 15ms/step - loss: 0.5831 - accuracy: 0.7143 - lr: 0.0064\n",
      "Epoch 19/100\n",
      "1/7 [===>..........................] - ETA: 0s - loss: 0.7490 - accuracy: 0.3333\n",
      "Epoch 19: loss did not improve from 0.58306\n",
      "7/7 [==============================] - 0s 5ms/step - loss: 0.5942 - accuracy: 0.7619 - lr: 0.0064\n",
      "Epoch 20/100\n",
      "1/7 [===>..........................] - ETA: 0s - loss: 0.4491 - accuracy: 1.0000\n",
      "Epoch 20: loss did not improve from 0.58306\n",
      "7/7 [==============================] - 0s 4ms/step - loss: 0.6117 - accuracy: 0.6667 - lr: 0.0064\n",
      "Epoch 21/100\n",
      "1/7 [===>..........................] - ETA: 0s - loss: 0.7989 - accuracy: 0.6667\n",
      "Epoch 21: loss did not improve from 0.58306\n",
      "\n",
      "Epoch 21: ReduceLROnPlateau reducing learning rate to 0.0051199994981288915.\n",
      "7/7 [==============================] - 0s 5ms/step - loss: 0.6128 - accuracy: 0.7619 - lr: 0.0064\n",
      "Epoch 22/100\n",
      "1/7 [===>..........................] - ETA: 0s - loss: 0.6769 - accuracy: 0.6667\n",
      "Epoch 22: loss did not improve from 0.58306\n",
      "7/7 [==============================] - 0s 5ms/step - loss: 0.5969 - accuracy: 0.7619 - lr: 0.0051\n",
      "Epoch 23/100\n",
      "1/7 [===>..........................] - ETA: 0s - loss: 0.5027 - accuracy: 1.0000\n",
      "Epoch 23: loss did not improve from 0.58306\n",
      "7/7 [==============================] - 0s 5ms/step - loss: 0.5835 - accuracy: 0.7619 - lr: 0.0051\n",
      "Epoch 24/100\n",
      "1/7 [===>..........................] - ETA: 0s - loss: 0.3898 - accuracy: 1.0000\n",
      "Epoch 24: loss did not improve from 0.58306\n",
      "\n",
      "Epoch 24: ReduceLROnPlateau reducing learning rate to 0.004095999523997307.\n",
      "7/7 [==============================] - 0s 5ms/step - loss: 0.6019 - accuracy: 0.6190 - lr: 0.0051\n",
      "Epoch 25/100\n",
      "1/7 [===>..........................] - ETA: 0s - loss: 0.4236 - accuracy: 0.6667\n",
      "Epoch 25: loss did not improve from 0.58306\n",
      "7/7 [==============================] - 0s 5ms/step - loss: 0.5858 - accuracy: 0.6667 - lr: 0.0041\n",
      "Epoch 26/100\n",
      "1/7 [===>..........................] - ETA: 0s - loss: 0.4454 - accuracy: 1.0000\n",
      "Epoch 26: loss did not improve from 0.58306\n",
      "7/7 [==============================] - 0s 6ms/step - loss: 0.5883 - accuracy: 0.7619 - lr: 0.0041\n",
      "Epoch 27/100\n",
      "1/7 [===>..........................] - ETA: 0s - loss: 0.4767 - accuracy: 1.0000\n",
      "Epoch 27: loss improved from 0.58306 to 0.57691, saving model to -027-0.5769-0.7619.hdf5\n",
      "7/7 [==============================] - 0s 15ms/step - loss: 0.5769 - accuracy: 0.7619 - lr: 0.0041\n",
      "Epoch 28/100\n",
      "1/7 [===>..........................] - ETA: 0s - loss: 0.6599 - accuracy: 0.6667\n",
      "Epoch 28: loss did not improve from 0.57691\n",
      "7/7 [==============================] - 0s 4ms/step - loss: 0.5779 - accuracy: 0.6667 - lr: 0.0041\n",
      "Epoch 29/100\n",
      "1/7 [===>..........................] - ETA: 0s - loss: 0.8139 - accuracy: 0.6667\n",
      "Epoch 29: loss did not improve from 0.57691\n",
      "7/7 [==============================] - 0s 5ms/step - loss: 0.5783 - accuracy: 0.7619 - lr: 0.0041\n",
      "Epoch 30/100\n",
      "1/7 [===>..........................] - ETA: 0s - loss: 0.3508 - accuracy: 1.0000\n",
      "Epoch 30: loss did not improve from 0.57691\n",
      "\n",
      "Epoch 30: ReduceLROnPlateau reducing learning rate to 0.0032767996191978457.\n",
      "7/7 [==============================] - 0s 5ms/step - loss: 0.5982 - accuracy: 0.6667 - lr: 0.0041\n",
      "Epoch 31/100\n",
      "1/7 [===>..........................] - ETA: 0s - loss: 0.5635 - accuracy: 0.3333\n",
      "Epoch 31: loss improved from 0.57691 to 0.57352, saving model to -031-0.5735-0.7143.hdf5\n",
      "7/7 [==============================] - 0s 10ms/step - loss: 0.5735 - accuracy: 0.7143 - lr: 0.0033\n",
      "Epoch 32/100\n",
      "1/7 [===>..........................] - ETA: 0s - loss: 0.4063 - accuracy: 1.0000\n",
      "Epoch 32: loss improved from 0.57352 to 0.56841, saving model to -032-0.5684-0.7619.hdf5\n",
      "7/7 [==============================] - 0s 11ms/step - loss: 0.5684 - accuracy: 0.7619 - lr: 0.0033\n",
      "Epoch 33/100\n",
      "1/7 [===>..........................] - ETA: 0s - loss: 0.4050 - accuracy: 1.0000\n",
      "Epoch 33: loss improved from 0.56841 to 0.56823, saving model to -033-0.5682-0.7619.hdf5\n",
      "7/7 [==============================] - 0s 13ms/step - loss: 0.5682 - accuracy: 0.7619 - lr: 0.0033\n",
      "Epoch 34/100\n",
      "1/7 [===>..........................] - ETA: 0s - loss: 0.6584 - accuracy: 0.6667\n",
      "Epoch 34: loss did not improve from 0.56823\n",
      "7/7 [==============================] - 0s 5ms/step - loss: 0.5745 - accuracy: 0.7143 - lr: 0.0033\n",
      "Epoch 35/100\n",
      "1/7 [===>..........................] - ETA: 0s - loss: 0.4002 - accuracy: 1.0000\n",
      "Epoch 35: loss improved from 0.56823 to 0.56143, saving model to -035-0.5614-0.7619.hdf5\n",
      "7/7 [==============================] - 0s 12ms/step - loss: 0.5614 - accuracy: 0.7619 - lr: 0.0033\n",
      "Epoch 36/100\n",
      "1/7 [===>..........................] - ETA: 0s - loss: 0.4014 - accuracy: 1.0000\n",
      "Epoch 36: loss did not improve from 0.56143\n",
      "7/7 [==============================] - 0s 6ms/step - loss: 0.5650 - accuracy: 0.7619 - lr: 0.0033\n",
      "Epoch 37/100\n",
      "1/7 [===>..........................] - ETA: 0s - loss: 0.6796 - accuracy: 0.6667\n",
      "Epoch 37: loss did not improve from 0.56143\n",
      "7/7 [==============================] - 0s 5ms/step - loss: 0.5620 - accuracy: 0.7619 - lr: 0.0033\n",
      "Epoch 38/100\n",
      "1/7 [===>..........................] - ETA: 0s - loss: 0.7565 - accuracy: 0.3333\n",
      "Epoch 38: loss did not improve from 0.56143\n",
      "\n",
      "Epoch 38: ReduceLROnPlateau reducing learning rate to 0.0026214396581053737.\n",
      "7/7 [==============================] - 0s 5ms/step - loss: 0.5650 - accuracy: 0.7619 - lr: 0.0033\n",
      "Epoch 39/100\n",
      "1/7 [===>..........................] - ETA: 0s - loss: 0.8004 - accuracy: 0.6667\n",
      "Epoch 39: loss did not improve from 0.56143\n",
      "7/7 [==============================] - 0s 5ms/step - loss: 0.5729 - accuracy: 0.7619 - lr: 0.0026\n",
      "Epoch 40/100\n",
      "7/7 [==============================] - ETA: 0s - loss: 0.5613 - accuracy: 0.7619\n",
      "Epoch 40: loss improved from 0.56143 to 0.56131, saving model to -040-0.5613-0.7619.hdf5\n",
      "7/7 [==============================] - 0s 26ms/step - loss: 0.5613 - accuracy: 0.7619 - lr: 0.0026\n",
      "Epoch 41/100\n",
      "1/7 [===>..........................] - ETA: 0s - loss: 0.3333 - accuracy: 1.0000\n",
      "Epoch 41: loss improved from 0.56131 to 0.55928, saving model to -041-0.5593-0.7619.hdf5\n",
      "7/7 [==============================] - 0s 17ms/step - loss: 0.5593 - accuracy: 0.7619 - lr: 0.0026\n",
      "Epoch 42/100\n",
      "1/7 [===>..........................] - ETA: 0s - loss: 0.4459 - accuracy: 1.0000\n",
      "Epoch 42: loss did not improve from 0.55928\n",
      "7/7 [==============================] - 0s 5ms/step - loss: 0.5615 - accuracy: 0.7619 - lr: 0.0026\n",
      "Epoch 43/100\n",
      "1/7 [===>..........................] - ETA: 0s - loss: 0.3797 - accuracy: 1.0000\n",
      "Epoch 43: loss did not improve from 0.55928\n",
      "7/7 [==============================] - 0s 7ms/step - loss: 0.5875 - accuracy: 0.6190 - lr: 0.0026\n",
      "Epoch 44/100\n",
      "1/7 [===>..........................] - ETA: 0s - loss: 0.3975 - accuracy: 0.6667\n",
      "Epoch 44: loss improved from 0.55928 to 0.55637, saving model to -044-0.5564-0.7619.hdf5\n",
      "7/7 [==============================] - 0s 13ms/step - loss: 0.5564 - accuracy: 0.7619 - lr: 0.0026\n",
      "Epoch 45/100\n",
      "1/7 [===>..........................] - ETA: 0s - loss: 0.4499 - accuracy: 1.0000\n",
      "Epoch 45: loss did not improve from 0.55637\n",
      "7/7 [==============================] - 0s 5ms/step - loss: 0.5582 - accuracy: 0.7619 - lr: 0.0026\n",
      "Epoch 46/100\n",
      "1/7 [===>..........................] - ETA: 0s - loss: 0.7068 - accuracy: 0.6667\n",
      "Epoch 46: loss did not improve from 0.55637\n",
      "7/7 [==============================] - 0s 5ms/step - loss: 0.5712 - accuracy: 0.7619 - lr: 0.0026\n",
      "Epoch 47/100\n",
      "1/7 [===>..........................] - ETA: 0s - loss: 0.4066 - accuracy: 1.0000\n",
      "Epoch 47: loss did not improve from 0.55637\n",
      "\n",
      "Epoch 47: ReduceLROnPlateau reducing learning rate to 0.0020971518009901048.\n",
      "7/7 [==============================] - 0s 6ms/step - loss: 0.5570 - accuracy: 0.7619 - lr: 0.0026\n",
      "Epoch 48/100\n",
      "1/7 [===>..........................] - ETA: 0s - loss: 0.9888 - accuracy: 0.3333\n",
      "Epoch 48: loss improved from 0.55637 to 0.55070, saving model to -048-0.5507-0.7619.hdf5\n",
      "7/7 [==============================] - 0s 17ms/step - loss: 0.5507 - accuracy: 0.7619 - lr: 0.0021\n",
      "Epoch 49/100\n",
      "1/7 [===>..........................] - ETA: 0s - loss: 0.6651 - accuracy: 0.6667\n",
      "Epoch 49: loss did not improve from 0.55070\n",
      "7/7 [==============================] - 0s 4ms/step - loss: 0.5529 - accuracy: 0.7619 - lr: 0.0021\n",
      "Epoch 50/100\n",
      "1/7 [===>..........................] - ETA: 0s - loss: 0.3678 - accuracy: 1.0000\n",
      "Epoch 50: loss did not improve from 0.55070\n",
      "7/7 [==============================] - 0s 7ms/step - loss: 0.5543 - accuracy: 0.7619 - lr: 0.0021\n",
      "Epoch 51/100\n",
      "1/7 [===>..........................] - ETA: 0s - loss: 0.4635 - accuracy: 0.6667\n",
      "Epoch 51: loss did not improve from 0.55070\n",
      "\n",
      "Epoch 51: ReduceLROnPlateau reducing learning rate to 0.0016777213662862779.\n",
      "7/7 [==============================] - 0s 5ms/step - loss: 0.5586 - accuracy: 0.7619 - lr: 0.0021\n",
      "Epoch 52/100\n",
      "1/7 [===>..........................] - ETA: 0s - loss: 0.6744 - accuracy: 0.6667\n",
      "Epoch 52: loss did not improve from 0.55070\n",
      "7/7 [==============================] - 0s 6ms/step - loss: 0.5641 - accuracy: 0.7619 - lr: 0.0017\n",
      "Epoch 53/100\n",
      "1/7 [===>..........................] - ETA: 0s - loss: 0.5509 - accuracy: 0.6667\n",
      "Epoch 53: loss did not improve from 0.55070\n",
      "7/7 [==============================] - 0s 5ms/step - loss: 0.5527 - accuracy: 0.7619 - lr: 0.0017\n",
      "Epoch 54/100\n",
      "1/7 [===>..........................] - ETA: 0s - loss: 0.5832 - accuracy: 0.6667\n",
      "Epoch 54: loss did not improve from 0.55070\n",
      "\n",
      "Epoch 54: ReduceLROnPlateau reducing learning rate to 0.0013421771116554739.\n",
      "7/7 [==============================] - 0s 5ms/step - loss: 0.5587 - accuracy: 0.7619 - lr: 0.0017\n",
      "Epoch 55/100\n",
      "1/7 [===>..........................] - ETA: 0s - loss: 0.6556 - accuracy: 0.6667\n",
      "Epoch 55: loss did not improve from 0.55070\n",
      "7/7 [==============================] - 0s 4ms/step - loss: 0.5567 - accuracy: 0.7619 - lr: 0.0013\n",
      "Epoch 56/100\n",
      "1/7 [===>..........................] - ETA: 0s - loss: 0.4310 - accuracy: 1.0000\n",
      "Epoch 56: loss did not improve from 0.55070\n",
      "7/7 [==============================] - 0s 5ms/step - loss: 0.5545 - accuracy: 0.7619 - lr: 0.0013\n",
      "Epoch 57/100\n",
      "1/7 [===>..........................] - ETA: 0s - loss: 0.4417 - accuracy: 1.0000\n",
      "Epoch 57: loss did not improve from 0.55070\n",
      "\n",
      "Epoch 57: ReduceLROnPlateau reducing learning rate to 0.001073741726577282.\n",
      "7/7 [==============================] - 0s 4ms/step - loss: 0.5535 - accuracy: 0.7619 - lr: 0.0013\n",
      "Epoch 58/100\n",
      "1/7 [===>..........................] - ETA: 0s - loss: 0.7615 - accuracy: 0.6667\n",
      "Epoch 58: loss did not improve from 0.55070\n",
      "7/7 [==============================] - 0s 4ms/step - loss: 0.5634 - accuracy: 0.7619 - lr: 0.0011\n",
      "Epoch 59/100\n",
      "1/7 [===>..........................] - ETA: 0s - loss: 0.5228 - accuracy: 0.6667\n",
      "Epoch 59: loss did not improve from 0.55070\n",
      "7/7 [==============================] - 0s 4ms/step - loss: 0.5520 - accuracy: 0.7619 - lr: 0.0011\n",
      "Epoch 60/100\n",
      "1/7 [===>..........................] - ETA: 0s - loss: 0.4342 - accuracy: 1.0000\n",
      "Epoch 60: loss improved from 0.55070 to 0.55056, saving model to -060-0.5506-0.7619.hdf5\n",
      "7/7 [==============================] - 0s 11ms/step - loss: 0.5506 - accuracy: 0.7619 - lr: 0.0011\n",
      "Epoch 61/100\n",
      "1/7 [===>..........................] - ETA: 0s - loss: 0.7198 - accuracy: 0.6667\n",
      "Epoch 61: loss did not improve from 0.55056\n",
      "7/7 [==============================] - 0s 4ms/step - loss: 0.5522 - accuracy: 0.7619 - lr: 0.0011\n",
      "Epoch 62/100\n",
      "1/7 [===>..........................] - ETA: 0s - loss: 0.3584 - accuracy: 1.0000\n",
      "Epoch 62: loss improved from 0.55056 to 0.54859, saving model to -062-0.5486-0.7619.hdf5\n",
      "7/7 [==============================] - 0s 10ms/step - loss: 0.5486 - accuracy: 0.7619 - lr: 0.0011\n",
      "Epoch 63/100\n",
      "1/7 [===>..........................] - ETA: 0s - loss: 0.6566 - accuracy: 0.6667\n",
      "Epoch 63: loss did not improve from 0.54859\n",
      "7/7 [==============================] - 0s 5ms/step - loss: 0.5570 - accuracy: 0.7619 - lr: 0.0011\n",
      "Epoch 64/100\n",
      "1/7 [===>..........................] - ETA: 0s - loss: 0.5713 - accuracy: 0.6667\n",
      "Epoch 64: loss did not improve from 0.54859\n",
      "7/7 [==============================] - 0s 5ms/step - loss: 0.5490 - accuracy: 0.7619 - lr: 0.0011\n",
      "Epoch 65/100\n",
      "1/7 [===>..........................] - ETA: 0s - loss: 0.8778 - accuracy: 0.3333\n",
      "Epoch 65: loss did not improve from 0.54859\n",
      "\n",
      "Epoch 65: ReduceLROnPlateau reducing learning rate to 0.0008589933626353742.\n",
      "7/7 [==============================] - 0s 6ms/step - loss: 0.5487 - accuracy: 0.7619 - lr: 0.0011\n",
      "Epoch 66/100\n",
      "1/7 [===>..........................] - ETA: 0s - loss: 0.5747 - accuracy: 0.6667\n",
      "Epoch 66: loss did not improve from 0.54859\n",
      "7/7 [==============================] - 0s 5ms/step - loss: 0.5507 - accuracy: 0.7619 - lr: 8.5899e-04\n",
      "Epoch 67/100\n",
      "1/7 [===>..........................] - ETA: 0s - loss: 0.3597 - accuracy: 1.0000\n",
      "Epoch 67: loss did not improve from 0.54859\n",
      "7/7 [==============================] - 0s 4ms/step - loss: 0.5500 - accuracy: 0.7619 - lr: 8.5899e-04\n",
      "Epoch 68/100\n",
      "1/7 [===>..........................] - ETA: 0s - loss: 0.2872 - accuracy: 1.0000\n",
      "Epoch 68: loss did not improve from 0.54859\n",
      "\n",
      "Epoch 68: ReduceLROnPlateau reducing learning rate to 0.0006871947087347508.\n",
      "7/7 [==============================] - 0s 5ms/step - loss: 0.5487 - accuracy: 0.7619 - lr: 8.5899e-04\n",
      "Epoch 69/100\n",
      "1/7 [===>..........................] - ETA: 0s - loss: 0.4944 - accuracy: 0.6667\n",
      "Epoch 69: loss improved from 0.54859 to 0.54854, saving model to -069-0.5485-0.7619.hdf5\n",
      "7/7 [==============================] - 0s 12ms/step - loss: 0.5485 - accuracy: 0.7619 - lr: 6.8719e-04\n",
      "Epoch 70/100\n",
      "1/7 [===>..........................] - ETA: 0s - loss: 0.7374 - accuracy: 0.6667\n",
      "Epoch 70: loss did not improve from 0.54854\n",
      "7/7 [==============================] - 0s 5ms/step - loss: 0.5490 - accuracy: 0.7619 - lr: 6.8719e-04\n",
      "Epoch 71/100\n",
      "1/7 [===>..........................] - ETA: 0s - loss: 0.6584 - accuracy: 0.6667\n",
      "Epoch 71: loss did not improve from 0.54854\n",
      "\n",
      "Epoch 71: ReduceLROnPlateau reducing learning rate to 0.0005497557576745749.\n",
      "7/7 [==============================] - 0s 6ms/step - loss: 0.5489 - accuracy: 0.7619 - lr: 6.8719e-04\n",
      "Epoch 72/100\n",
      "7/7 [==============================] - ETA: 0s - loss: 0.5485 - accuracy: 0.7619\n",
      "Epoch 72: loss improved from 0.54854 to 0.54845, saving model to -072-0.5485-0.7619.hdf5\n",
      "7/7 [==============================] - 0s 22ms/step - loss: 0.5485 - accuracy: 0.7619 - lr: 5.4976e-04\n",
      "Epoch 73/100\n",
      "1/7 [===>..........................] - ETA: 0s - loss: 0.2836 - accuracy: 1.0000\n",
      "Epoch 73: loss did not improve from 0.54845\n",
      "7/7 [==============================] - 0s 4ms/step - loss: 0.5517 - accuracy: 0.7619 - lr: 5.4976e-04\n",
      "Epoch 74/100\n",
      "1/7 [===>..........................] - ETA: 0s - loss: 0.2689 - accuracy: 1.0000\n",
      "Epoch 74: loss did not improve from 0.54845\n",
      "7/7 [==============================] - 0s 4ms/step - loss: 0.5496 - accuracy: 0.7619 - lr: 5.4976e-04\n",
      "Epoch 75/100\n",
      "1/7 [===>..........................] - ETA: 0s - loss: 0.6648 - accuracy: 0.6667\n",
      "Epoch 75: loss improved from 0.54845 to 0.54821, saving model to -075-0.5482-0.7619.hdf5\n",
      "7/7 [==============================] - 0s 14ms/step - loss: 0.5482 - accuracy: 0.7619 - lr: 5.4976e-04\n",
      "Epoch 76/100\n",
      "1/7 [===>..........................] - ETA: 0s - loss: 0.4182 - accuracy: 1.0000\n",
      "Epoch 76: loss did not improve from 0.54821\n",
      "7/7 [==============================] - 0s 5ms/step - loss: 0.5526 - accuracy: 0.7619 - lr: 5.4976e-04\n",
      "Epoch 77/100\n",
      "1/7 [===>..........................] - ETA: 0s - loss: 0.3478 - accuracy: 1.0000\n",
      "Epoch 77: loss improved from 0.54821 to 0.54733, saving model to -077-0.5473-0.7619.hdf5\n",
      "7/7 [==============================] - 0s 14ms/step - loss: 0.5473 - accuracy: 0.7619 - lr: 5.4976e-04\n",
      "Epoch 78/100\n",
      "1/7 [===>..........................] - ETA: 0s - loss: 0.3488 - accuracy: 1.0000\n",
      "Epoch 78: loss improved from 0.54733 to 0.54620, saving model to -078-0.5462-0.7619.hdf5\n",
      "7/7 [==============================] - 0s 15ms/step - loss: 0.5462 - accuracy: 0.7619 - lr: 5.4976e-04\n",
      "Epoch 79/100\n",
      "1/7 [===>..........................] - ETA: 0s - loss: 0.4258 - accuracy: 1.0000\n",
      "Epoch 79: loss did not improve from 0.54620\n",
      "7/7 [==============================] - 0s 5ms/step - loss: 0.5493 - accuracy: 0.7619 - lr: 5.4976e-04\n",
      "Epoch 80/100\n",
      "1/7 [===>..........................] - ETA: 0s - loss: 0.4309 - accuracy: 1.0000\n",
      "Epoch 80: loss did not improve from 0.54620\n",
      "7/7 [==============================] - 0s 4ms/step - loss: 0.5467 - accuracy: 0.7619 - lr: 5.4976e-04\n",
      "Epoch 81/100\n",
      "1/7 [===>..........................] - ETA: 0s - loss: 0.5695 - accuracy: 0.6667\n",
      "Epoch 81: loss did not improve from 0.54620\n",
      "\n",
      "Epoch 81: ReduceLROnPlateau reducing learning rate to 0.0004398046061396599.\n",
      "7/7 [==============================] - 0s 6ms/step - loss: 0.5466 - accuracy: 0.7619 - lr: 5.4976e-04\n",
      "Epoch 82/100\n",
      "1/7 [===>..........................] - ETA: 0s - loss: 0.5035 - accuracy: 0.6667\n",
      "Epoch 82: loss did not improve from 0.54620\n",
      "7/7 [==============================] - 0s 4ms/step - loss: 0.5473 - accuracy: 0.7619 - lr: 4.3980e-04\n",
      "Epoch 83/100\n",
      "1/7 [===>..........................] - ETA: 0s - loss: 0.6477 - accuracy: 0.6667\n",
      "Epoch 83: loss did not improve from 0.54620\n",
      "7/7 [==============================] - 0s 4ms/step - loss: 0.5465 - accuracy: 0.7619 - lr: 4.3980e-04\n",
      "Epoch 84/100\n",
      "1/7 [===>..........................] - ETA: 0s - loss: 0.9575 - accuracy: 0.3333\n",
      "Epoch 84: loss did not improve from 0.54620\n",
      "\n",
      "Epoch 84: ReduceLROnPlateau reducing learning rate to 0.00035184368025511505.\n",
      "7/7 [==============================] - 0s 6ms/step - loss: 0.5466 - accuracy: 0.7619 - lr: 4.3980e-04\n",
      "Epoch 85/100\n",
      "1/7 [===>..........................] - ETA: 0s - loss: 0.8864 - accuracy: 0.3333\n",
      "Epoch 85: loss did not improve from 0.54620\n",
      "7/7 [==============================] - 0s 4ms/step - loss: 0.5463 - accuracy: 0.7619 - lr: 3.5184e-04\n",
      "Epoch 86/100\n",
      "1/7 [===>..........................] - ETA: 0s - loss: 0.9592 - accuracy: 0.3333\n",
      "Epoch 86: loss did not improve from 0.54620\n",
      "7/7 [==============================] - 0s 4ms/step - loss: 0.5470 - accuracy: 0.7619 - lr: 3.5184e-04\n",
      "Epoch 87/100\n",
      "1/7 [===>..........................] - ETA: 0s - loss: 0.2768 - accuracy: 1.0000\n",
      "Epoch 87: loss did not improve from 0.54620\n",
      "\n",
      "Epoch 87: ReduceLROnPlateau reducing learning rate to 0.0002814749488607049.\n",
      "7/7 [==============================] - 0s 5ms/step - loss: 0.5462 - accuracy: 0.7619 - lr: 3.5184e-04\n",
      "Epoch 88/100\n",
      "1/7 [===>..........................] - ETA: 0s - loss: 0.2775 - accuracy: 1.0000\n",
      "Epoch 88: loss did not improve from 0.54620\n",
      "7/7 [==============================] - 0s 5ms/step - loss: 0.5463 - accuracy: 0.7619 - lr: 2.8147e-04\n",
      "Epoch 89/100\n",
      "1/7 [===>..........................] - ETA: 0s - loss: 1.1149 - accuracy: 0.0000e+00\n",
      "Epoch 89: loss did not improve from 0.54620\n",
      "7/7 [==============================] - 0s 4ms/step - loss: 0.5463 - accuracy: 0.7619 - lr: 2.8147e-04\n",
      "Epoch 90/100\n",
      "1/7 [===>..........................] - ETA: 0s - loss: 0.7390 - accuracy: 0.6667\n",
      "Epoch 90: loss did not improve from 0.54620\n",
      "\n",
      "Epoch 90: ReduceLROnPlateau reducing learning rate to 0.0002251799684017897.\n",
      "7/7 [==============================] - 0s 6ms/step - loss: 0.5478 - accuracy: 0.7619 - lr: 2.8147e-04\n",
      "Epoch 91/100\n",
      "1/7 [===>..........................] - ETA: 0s - loss: 0.5752 - accuracy: 0.6667\n",
      "Epoch 91: loss did not improve from 0.54620\n",
      "7/7 [==============================] - 0s 9ms/step - loss: 0.5489 - accuracy: 0.7619 - lr: 2.2518e-04\n",
      "Epoch 92/100\n",
      "1/7 [===>..........................] - ETA: 0s - loss: 0.2758 - accuracy: 1.0000\n",
      "Epoch 92: loss improved from 0.54620 to 0.54566, saving model to -092-0.5457-0.7619.hdf5\n",
      "7/7 [==============================] - 0s 17ms/step - loss: 0.5457 - accuracy: 0.7619 - lr: 2.2518e-04\n",
      "Epoch 93/100\n",
      "1/7 [===>..........................] - ETA: 0s - loss: 0.6488 - accuracy: 0.6667\n",
      "Epoch 93: loss did not improve from 0.54566\n",
      "7/7 [==============================] - 0s 6ms/step - loss: 0.5458 - accuracy: 0.7619 - lr: 2.2518e-04\n",
      "Epoch 94/100\n",
      "1/7 [===>..........................] - ETA: 0s - loss: 0.6445 - accuracy: 0.6667\n",
      "Epoch 94: loss improved from 0.54566 to 0.54553, saving model to -094-0.5455-0.7619.hdf5\n",
      "7/7 [==============================] - 0s 14ms/step - loss: 0.5455 - accuracy: 0.7619 - lr: 2.2518e-04\n",
      "Epoch 95/100\n",
      "1/7 [===>..........................] - ETA: 0s - loss: 0.7276 - accuracy: 0.6667\n",
      "Epoch 95: loss did not improve from 0.54553\n",
      "7/7 [==============================] - 0s 6ms/step - loss: 0.5460 - accuracy: 0.7619 - lr: 2.2518e-04\n",
      "Epoch 96/100\n",
      "1/7 [===>..........................] - ETA: 0s - loss: 0.3491 - accuracy: 1.0000\n",
      "Epoch 96: loss did not improve from 0.54553\n",
      "7/7 [==============================] - 0s 6ms/step - loss: 0.5457 - accuracy: 0.7619 - lr: 2.2518e-04\n",
      "Epoch 97/100\n",
      "1/7 [===>..........................] - ETA: 0s - loss: 0.5732 - accuracy: 0.6667\n",
      "Epoch 97: loss did not improve from 0.54553\n",
      "\n",
      "Epoch 97: ReduceLROnPlateau reducing learning rate to 0.0001801439793780446.\n",
      "7/7 [==============================] - 0s 6ms/step - loss: 0.5467 - accuracy: 0.7619 - lr: 2.2518e-04\n",
      "Epoch 98/100\n",
      "1/7 [===>..........................] - ETA: 0s - loss: 0.2739 - accuracy: 1.0000\n",
      "Epoch 98: loss improved from 0.54553 to 0.54550, saving model to -098-0.5455-0.7619.hdf5\n",
      "7/7 [==============================] - 0s 14ms/step - loss: 0.5455 - accuracy: 0.7619 - lr: 1.8014e-04\n",
      "Epoch 99/100\n",
      "1/7 [===>..........................] - ETA: 0s - loss: 0.7276 - accuracy: 0.3333\n",
      "Epoch 99: loss did not improve from 0.54550\n",
      "7/7 [==============================] - 0s 6ms/step - loss: 0.5457 - accuracy: 0.7619 - lr: 1.8014e-04\n",
      "Epoch 100/100\n",
      "6/7 [========================>.....] - ETA: 0s - loss: 0.4608 - accuracy: 0.8333\n",
      "Epoch 100: loss did not improve from 0.54550\n",
      "\n",
      "Epoch 100: ReduceLROnPlateau reducing learning rate to 0.00014411518350243568.\n",
      "7/7 [==============================] - 0s 13ms/step - loss: 0.5457 - accuracy: 0.7619 - lr: 1.8014e-04\n"
     ]
    },
    {
     "data": {
      "text/plain": [
       "<keras.callbacks.History at 0x20ad7987f40>"
      ]
     },
     "execution_count": 13,
     "metadata": {},
     "output_type": "execute_result"
    }
   ],
   "source": [
    "model.fit(x=InputFeature, y=Label, epochs=100, shuffle=True, batch_size=3, callbacks=CALLBACK)"
   ]
  },
  {
   "cell_type": "markdown",
   "id": "13beca2c",
   "metadata": {},
   "source": [
    "# Model Load 하기 전, hdf5 파일 이름 꼭 확인하기"
   ]
  },
  {
   "cell_type": "code",
   "execution_count": 15,
   "id": "13bdffe6",
   "metadata": {},
   "outputs": [],
   "source": [
    "# epoch - 99번째, loss - 0.5984, accuracy - 0.7619 \n",
    "model.load_weights(\"-098-0.5455-0.7619.hdf5\")"
   ]
  },
  {
   "cell_type": "markdown",
   "id": "bf97d4ad",
   "metadata": {},
   "source": [
    "- model의 dense를 늘렸을 경우, 바뀐 model file로 load 해야 함 <br>\n",
    "( 당연한거지만 이 전에 학습한 것이 값이 더 괜찮아서 load 하려고 했다가 Layer mismatch error 발생)"
   ]
  },
  {
   "cell_type": "markdown",
   "id": "facab60a",
   "metadata": {},
   "source": [
    "## FLASK 셋팅하기"
   ]
  },
  {
   "cell_type": "code",
   "execution_count": 16,
   "id": "9874dd6d",
   "metadata": {},
   "outputs": [],
   "source": [
    "from flask import Flask\n",
    "from flask import render_template"
   ]
  },
  {
   "cell_type": "code",
   "execution_count": 17,
   "id": "d583e080",
   "metadata": {},
   "outputs": [],
   "source": [
    "app = Flask(__name__)"
   ]
  },
  {
   "cell_type": "markdown",
   "id": "8553c0c4",
   "metadata": {},
   "source": [
    "# FLASK API 구현부분"
   ]
  },
  {
   "cell_type": "code",
   "execution_count": 18,
   "id": "a2c2c5b6",
   "metadata": {},
   "outputs": [],
   "source": [
    "@app.route('/SpecialSale/<busy_day>/<high_temperature>')\n",
    "def PredictionSpecialSale(busy_day=None, high_temperature=None):\n",
    "    Input = pd.DataFrame({\n",
    "        'busy_day':[int(busy_day)],\n",
    "        'high_temperature':[float(high_temperature)]\n",
    "    })\n",
    "    \n",
    "    return str(model.predict(Input)[0][0])"
   ]
  },
  {
   "cell_type": "markdown",
   "id": "7f1437e7",
   "metadata": {},
   "source": [
    "# Flask, port 5000으로 실행"
   ]
  },
  {
   "cell_type": "code",
   "execution_count": 19,
   "id": "55b97941",
   "metadata": {},
   "outputs": [
    {
     "name": "stdout",
     "output_type": "stream",
     "text": [
      " * Serving Flask app '__main__' (lazy loading)\n",
      " * Environment: production\n",
      "\u001b[31m   WARNING: This is a development server. Do not use it in a production deployment.\u001b[0m\n",
      "\u001b[2m   Use a production WSGI server instead.\u001b[0m\n",
      " * Debug mode: off\n"
     ]
    },
    {
     "name": "stderr",
     "output_type": "stream",
     "text": [
      " * Running on all addresses.\n",
      "   WARNING: This is a development server. Do not use it in a production deployment.\n",
      " * Running on http://192.168.0.5:5000/ (Press CTRL+C to quit)\n"
     ]
    },
    {
     "name": "stdout",
     "output_type": "stream",
     "text": [
      "1/1 [==============================] - 0s 246ms/step\n"
     ]
    },
    {
     "name": "stderr",
     "output_type": "stream",
     "text": [
      "192.168.0.5 - - [07/Jul/2022 09:46:15] \"GET /SpecialSale/1/38 HTTP/1.1\" 200 -\n",
      "192.168.0.5 - - [07/Jul/2022 09:46:15] \"GET /favicon.ico HTTP/1.1\" 404 -\n"
     ]
    },
    {
     "name": "stdout",
     "output_type": "stream",
     "text": [
      "1/1 [==============================] - 0s 50ms/step\n"
     ]
    },
    {
     "name": "stderr",
     "output_type": "stream",
     "text": [
      "192.168.0.5 - - [07/Jul/2022 09:46:21] \"GET /SpecialSale/1/42 HTTP/1.1\" 200 -\n"
     ]
    },
    {
     "name": "stdout",
     "output_type": "stream",
     "text": [
      "1/1 [==============================] - 0s 50ms/step\n"
     ]
    },
    {
     "name": "stderr",
     "output_type": "stream",
     "text": [
      "192.168.0.5 - - [07/Jul/2022 09:46:27] \"GET /SpecialSale/2/38 HTTP/1.1\" 200 -\n"
     ]
    },
    {
     "name": "stdout",
     "output_type": "stream",
     "text": [
      "1/1 [==============================] - 0s 42ms/step\n"
     ]
    },
    {
     "name": "stderr",
     "output_type": "stream",
     "text": [
      "192.168.0.5 - - [07/Jul/2022 09:49:16] \"GET /SpecialSale/1/38 HTTP/1.1\" 200 -\n"
     ]
    },
    {
     "name": "stdout",
     "output_type": "stream",
     "text": [
      "1/1 [==============================] - 0s 52ms/step\n"
     ]
    },
    {
     "name": "stderr",
     "output_type": "stream",
     "text": [
      "192.168.0.5 - - [07/Jul/2022 09:49:27] \"GET /SpecialSale/3/38 HTTP/1.1\" 200 -\n"
     ]
    },
    {
     "name": "stdout",
     "output_type": "stream",
     "text": [
      "1/1 [==============================] - 0s 39ms/step\n"
     ]
    },
    {
     "name": "stderr",
     "output_type": "stream",
     "text": [
      "192.168.0.5 - - [07/Jul/2022 09:49:42] \"GET /SpecialSale/4/38 HTTP/1.1\" 200 -\n"
     ]
    },
    {
     "name": "stdout",
     "output_type": "stream",
     "text": [
      "1/1 [==============================] - 0s 41ms/step\n"
     ]
    },
    {
     "name": "stderr",
     "output_type": "stream",
     "text": [
      "192.168.0.5 - - [07/Jul/2022 09:50:02] \"GET /SpecialSale/5/38 HTTP/1.1\" 200 -\n"
     ]
    },
    {
     "name": "stdout",
     "output_type": "stream",
     "text": [
      "1/1 [==============================] - 0s 45ms/step\n"
     ]
    },
    {
     "name": "stderr",
     "output_type": "stream",
     "text": [
      "192.168.0.5 - - [07/Jul/2022 09:50:07] \"GET /SpecialSale/6/38 HTTP/1.1\" 200 -\n"
     ]
    },
    {
     "name": "stdout",
     "output_type": "stream",
     "text": [
      "1/1 [==============================] - 0s 50ms/step\n"
     ]
    },
    {
     "name": "stderr",
     "output_type": "stream",
     "text": [
      "192.168.0.5 - - [07/Jul/2022 09:50:12] \"GET /SpecialSale/12/38 HTTP/1.1\" 200 -\n"
     ]
    },
    {
     "name": "stdout",
     "output_type": "stream",
     "text": [
      "1/1 [==============================] - 0s 49ms/step\n"
     ]
    },
    {
     "name": "stderr",
     "output_type": "stream",
     "text": [
      "192.168.0.5 - - [07/Jul/2022 09:50:17] \"GET /SpecialSale/24/38 HTTP/1.1\" 200 -\n"
     ]
    },
    {
     "name": "stdout",
     "output_type": "stream",
     "text": [
      "1/1 [==============================] - 0s 48ms/step\n"
     ]
    },
    {
     "name": "stderr",
     "output_type": "stream",
     "text": [
      "192.168.0.5 - - [07/Jul/2022 09:50:24] \"GET /SpecialSale/11/38 HTTP/1.1\" 200 -\n"
     ]
    },
    {
     "name": "stdout",
     "output_type": "stream",
     "text": [
      "1/1 [==============================] - 0s 41ms/step\n"
     ]
    },
    {
     "name": "stderr",
     "output_type": "stream",
     "text": [
      "192.168.0.5 - - [07/Jul/2022 09:50:28] \"GET /SpecialSale/13/38 HTTP/1.1\" 200 -\n"
     ]
    },
    {
     "name": "stdout",
     "output_type": "stream",
     "text": [
      "1/1 [==============================] - 0s 46ms/step\n"
     ]
    },
    {
     "name": "stderr",
     "output_type": "stream",
     "text": [
      "192.168.0.5 - - [07/Jul/2022 09:50:41] \"GET /SpecialSale/12/38 HTTP/1.1\" 200 -\n"
     ]
    },
    {
     "name": "stdout",
     "output_type": "stream",
     "text": [
      "1/1 [==============================] - 0s 44ms/step\n"
     ]
    },
    {
     "name": "stderr",
     "output_type": "stream",
     "text": [
      "192.168.0.5 - - [07/Jul/2022 09:51:10] \"GET /SpecialSale/90/38 HTTP/1.1\" 200 -\n"
     ]
    }
   ],
   "source": [
    "app.run(host='0.0.0.0', port=5000)"
   ]
  },
  {
   "cell_type": "markdown",
   "id": "b50bb9ec",
   "metadata": {},
   "source": [
    "- http://172.30.1.6:5000/SpecialSale/1/38 => 0.5882789\n",
    "- http://172.30.1.6:5000/SpecialSale/2/38 => 0.87821376\n",
    "- http://172.30.1.6:5000/SpecialSale/3/38 => 0.97325736\n",
    "- http://172.30.1.6:5000/SpecialSale/4/38 => 0.99458504\n",
    "- 계속 증가하다가 12를 기점으로 1.0 유지"
   ]
  }
 ],
 "metadata": {
  "kernelspec": {
   "display_name": "Python 3.8.13 ('base')",
   "language": "python",
   "name": "python3"
  },
  "language_info": {
   "codemirror_mode": {
    "name": "ipython",
    "version": 3
   },
   "file_extension": ".py",
   "mimetype": "text/x-python",
   "name": "python",
   "nbconvert_exporter": "python",
   "pygments_lexer": "ipython3",
   "version": "3.8.13"
  },
  "vscode": {
   "interpreter": {
    "hash": "ad2bdc8ecc057115af97d19610ffacc2b4e99fae6737bb82f5d7fb13d2f2c186"
   }
  }
 },
 "nbformat": 4,
 "nbformat_minor": 5
}

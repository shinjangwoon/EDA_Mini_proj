{
 "cells": [
  {
   "cell_type": "markdown",
   "id": "6b8d9aeb",
   "metadata": {},
   "source": [
    "## 참고: https://hleecaster.com/ml-linear-regression-example/"
   ]
  },
  {
   "cell_type": "markdown",
   "id": "d24584ff",
   "metadata": {},
   "source": [
    "## 라이브러리 설치, 호출"
   ]
  },
  {
   "cell_type": "code",
   "execution_count": null,
   "id": "5b3aa736",
   "metadata": {},
   "outputs": [],
   "source": [
    "# pip install tensorflow"
   ]
  },
  {
   "cell_type": "code",
   "execution_count": null,
   "id": "c10dfacc",
   "metadata": {},
   "outputs": [],
   "source": [
    "# pip install statsmodels"
   ]
  },
  {
   "cell_type": "code",
   "execution_count": 5,
   "id": "4a912728",
   "metadata": {},
   "outputs": [],
   "source": [
    "import tensorflow as tf\n",
    "import pandas as pd\n",
    "import numpy as np\n",
    "import matplotlib.pyplot as plt\n",
    "import statsmodels.api as sm\n",
    "\n",
    "from tensorflow.keras.models import Sequential, load_model\n",
    "from tensorflow.keras.layers import Dense\n",
    "from tensorflow.keras.optimizers import SGD, Adam\n",
    "from tensorflow.keras.callbacks import ModelCheckpoint, TensorBoard, ReduceLROnPlateau"
   ]
  },
  {
   "cell_type": "markdown",
   "id": "774d835d",
   "metadata": {},
   "source": [
    "## 데이터 다운로드 (특별할인 판매)"
   ]
  },
  {
   "cell_type": "code",
   "execution_count": 6,
   "id": "3b6fe09e",
   "metadata": {},
   "outputs": [
    {
     "name": "stdout",
     "output_type": "stream",
     "text": [
      "         date weekday  busy_day  high_temperature  special_sales\n",
      "0  2002-08-05     Mon         0                28              1\n",
      "1  2002-08-06     Tue         0                24              0\n",
      "2  2002-08-07     Wed         1                26              0\n",
      "3  2002-08-08     Thu         0                24              0\n",
      "4  2002-08-09     Fri         0                23              0\n",
      "(21, 5)\n"
     ]
    }
   ],
   "source": [
    "import pandas as pd\n",
    "df = pd.read_csv('https://raw.githubusercontent.com/jmnote/zdata/master/logistic-regression/special-sales.csv')\n",
    "print(df.head())\n",
    "print(df.shape)"
   ]
  },
  {
   "cell_type": "markdown",
   "id": "fae03042",
   "metadata": {},
   "source": [
    "## Input, Feature 설정"
   ]
  },
  {
   "cell_type": "code",
   "execution_count": 7,
   "id": "cbcf321e",
   "metadata": {},
   "outputs": [],
   "source": [
    "Label = df['special_sales']\n",
    "InputFeature = df[['busy_day','high_temperature']]"
   ]
  },
  {
   "cell_type": "markdown",
   "id": "6b9edb19",
   "metadata": {},
   "source": [
    "## Keras Logit 모델 fitting"
   ]
  },
  {
   "cell_type": "code",
   "execution_count": 8,
   "id": "121e6d12",
   "metadata": {},
   "outputs": [],
   "source": [
    "model = Sequential()\n",
    "model.add(Dense(3, activation='linear', input_shape=(2,)))\n",
    "model.add(Dense(1, activation='sigmoid'))\n",
    "\n",
    "model.compile(loss='binary_crossentropy',\n",
    "              optimizer=Adam(learning_rate=0.01), metrics=['accuracy'])"
   ]
  },
  {
   "cell_type": "markdown",
   "id": "7d2abf85",
   "metadata": {},
   "source": [
    "## Keras 모델 살펴보기"
   ]
  },
  {
   "cell_type": "code",
   "execution_count": 9,
   "id": "b2b1df1f",
   "metadata": {},
   "outputs": [
    {
     "name": "stdout",
     "output_type": "stream",
     "text": [
      "Model: \"sequential\"\n",
      "_________________________________________________________________\n",
      " Layer (type)                Output Shape              Param #   \n",
      "=================================================================\n",
      " dense (Dense)               (None, 3)                 9         \n",
      "                                                                 \n",
      " dense_1 (Dense)             (None, 1)                 4         \n",
      "                                                                 \n",
      "=================================================================\n",
      "Total params: 13\n",
      "Trainable params: 13\n",
      "Non-trainable params: 0\n",
      "_________________________________________________________________\n"
     ]
    }
   ],
   "source": [
    "model.summary()"
   ]
  },
  {
   "cell_type": "markdown",
   "id": "fef88762",
   "metadata": {},
   "source": [
    "## Call-back 함수\n",
    "## 모델 학습"
   ]
  },
  {
   "cell_type": "code",
   "execution_count": 10,
   "id": "e84e8e7b",
   "metadata": {},
   "outputs": [],
   "source": [
    "# Call-back 함수\n",
    "# CheckPoint: Epoch 마다 validation 성능을 검증하여, best performance 일 경우 저장\n",
    "CP = ModelCheckpoint(filepath='-{epoch:03d}-{loss:.4f}-{accuracy:.4f}.hdf5',\n",
    "            monitor='loss', verbose=1, save_best_only=True, mode='min')\n",
    "\n",
    "# Learning Rate 줄여나가기\n",
    "LR = ReduceLROnPlateau(monitor='loss',factor=0.8,patience=3, verbose=1, min_lr=1e-8)\n",
    "\n",
    "CALLBACK = [CP, LR]"
   ]
  },
  {
   "cell_type": "code",
   "execution_count": 11,
   "id": "f681b6f8",
   "metadata": {},
   "outputs": [
    {
     "name": "stdout",
     "output_type": "stream",
     "text": [
      "Epoch 1/100\n",
      "1/7 [===>..........................] - ETA: 6s - loss: 19.3627 - accuracy: 0.6667\n",
      "Epoch 1: loss improved from inf to 22.43605, saving model to -001-22.4361-0.6190.hdf5\n",
      "7/7 [==============================] - 1s 12ms/step - loss: 22.4361 - accuracy: 0.6190 - lr: 0.0100\n",
      "Epoch 2/100\n",
      "1/7 [===>..........................] - ETA: 0s - loss: 4.8799e-20 - accuracy: 1.0000\n",
      "Epoch 2: loss improved from 22.43605 to 19.01170, saving model to -002-19.0117-0.6190.hdf5\n",
      "7/7 [==============================] - 0s 10ms/step - loss: 19.0117 - accuracy: 0.6190 - lr: 0.0100\n",
      "Epoch 3/100\n",
      "1/7 [===>..........................] - ETA: 0s - loss: 3.5500e-18 - accuracy: 1.0000\n",
      "Epoch 3: loss improved from 19.01170 to 16.40774, saving model to -003-16.4077-0.6190.hdf5\n",
      "7/7 [==============================] - 0s 10ms/step - loss: 16.4077 - accuracy: 0.6190 - lr: 0.0100\n",
      "Epoch 4/100\n",
      "1/7 [===>..........................] - ETA: 0s - loss: 13.1101 - accuracy: 0.6667\n",
      "Epoch 4: loss improved from 16.40774 to 13.85547, saving model to -004-13.8555-0.6190.hdf5\n",
      "7/7 [==============================] - 0s 10ms/step - loss: 13.8555 - accuracy: 0.6190 - lr: 0.0100\n",
      "Epoch 5/100\n",
      "1/7 [===>..........................] - ETA: 0s - loss: 21.1969 - accuracy: 0.3333\n",
      "Epoch 5: loss improved from 13.85547 to 11.63620, saving model to -005-11.6362-0.6190.hdf5\n",
      "7/7 [==============================] - 0s 13ms/step - loss: 11.6362 - accuracy: 0.6190 - lr: 0.0100\n",
      "Epoch 6/100\n",
      "1/7 [===>..........................] - ETA: 0s - loss: 18.9233 - accuracy: 0.3333\n",
      "Epoch 6: loss improved from 11.63620 to 9.82984, saving model to -006-9.8298-0.6190.hdf5\n",
      "7/7 [==============================] - 0s 11ms/step - loss: 9.8298 - accuracy: 0.6190 - lr: 0.0100\n",
      "Epoch 7/100\n",
      "1/7 [===>..........................] - ETA: 0s - loss: 22.7986 - accuracy: 0.0000e+00\n",
      "Epoch 7: loss improved from 9.82984 to 7.85729, saving model to -007-7.8573-0.6190.hdf5\n",
      "7/7 [==============================] - 0s 12ms/step - loss: 7.8573 - accuracy: 0.6190 - lr: 0.0100\n",
      "Epoch 8/100\n",
      "1/7 [===>..........................] - ETA: 0s - loss: 11.3389 - accuracy: 0.3333\n",
      "Epoch 8: loss improved from 7.85729 to 6.28592, saving model to -008-6.2859-0.6190.hdf5\n",
      "7/7 [==============================] - 0s 12ms/step - loss: 6.2859 - accuracy: 0.6190 - lr: 0.0100\n",
      "Epoch 9/100\n",
      "1/7 [===>..........................] - ETA: 0s - loss: 8.9038 - accuracy: 0.3333\n",
      "Epoch 9: loss improved from 6.28592 to 4.75627, saving model to -009-4.7563-0.6190.hdf5\n",
      "7/7 [==============================] - 0s 9ms/step - loss: 4.7563 - accuracy: 0.6190 - lr: 0.0100\n",
      "Epoch 10/100\n",
      "1/7 [===>..........................] - ETA: 0s - loss: 5.6994e-05 - accuracy: 1.0000\n",
      "Epoch 10: loss improved from 4.75627 to 3.58431, saving model to -010-3.5843-0.6190.hdf5\n",
      "7/7 [==============================] - 0s 9ms/step - loss: 3.5843 - accuracy: 0.6190 - lr: 0.0100\n",
      "Epoch 11/100\n",
      "1/7 [===>..........................] - ETA: 0s - loss: 2.6709 - accuracy: 0.6667\n",
      "Epoch 11: loss improved from 3.58431 to 2.63378, saving model to -011-2.6338-0.6190.hdf5\n",
      "7/7 [==============================] - 0s 10ms/step - loss: 2.6338 - accuracy: 0.6190 - lr: 0.0100\n",
      "Epoch 12/100\n",
      "1/7 [===>..........................] - ETA: 0s - loss: 0.0056 - accuracy: 1.0000\n",
      "Epoch 12: loss improved from 2.63378 to 1.62990, saving model to -012-1.6299-0.6190.hdf5\n",
      "7/7 [==============================] - 0s 12ms/step - loss: 1.6299 - accuracy: 0.6190 - lr: 0.0100\n",
      "Epoch 13/100\n",
      "1/7 [===>..........................] - ETA: 0s - loss: 1.0066 - accuracy: 0.6667\n",
      "Epoch 13: loss improved from 1.62990 to 0.86268, saving model to -013-0.8627-0.6190.hdf5\n",
      "7/7 [==============================] - 0s 10ms/step - loss: 0.8627 - accuracy: 0.6190 - lr: 0.0100\n",
      "Epoch 14/100\n",
      "1/7 [===>..........................] - ETA: 0s - loss: 1.0015 - accuracy: 0.3333\n",
      "Epoch 14: loss improved from 0.86268 to 0.72668, saving model to -014-0.7267-0.6667.hdf5\n",
      "7/7 [==============================] - 0s 22ms/step - loss: 0.7267 - accuracy: 0.6667 - lr: 0.0100\n",
      "Epoch 15/100\n",
      "1/7 [===>..........................] - ETA: 0s - loss: 0.8449 - accuracy: 0.3333\n",
      "Epoch 15: loss did not improve from 0.72668\n",
      "7/7 [==============================] - 0s 5ms/step - loss: 0.7539 - accuracy: 0.3810 - lr: 0.0100\n",
      "Epoch 16/100\n",
      "1/7 [===>..........................] - ETA: 0s - loss: 0.4630 - accuracy: 0.6667\n",
      "Epoch 16: loss improved from 0.72668 to 0.69457, saving model to -016-0.6946-0.5238.hdf5\n",
      "7/7 [==============================] - 0s 11ms/step - loss: 0.6946 - accuracy: 0.5238 - lr: 0.0100\n",
      "Epoch 17/100\n",
      "1/7 [===>..........................] - ETA: 0s - loss: 0.6378 - accuracy: 0.6667\n",
      "Epoch 17: loss improved from 0.69457 to 0.63576, saving model to -017-0.6358-0.6190.hdf5\n",
      "7/7 [==============================] - 0s 11ms/step - loss: 0.6358 - accuracy: 0.6190 - lr: 0.0100\n",
      "Epoch 18/100\n",
      "1/7 [===>..........................] - ETA: 0s - loss: 0.7385 - accuracy: 0.3333\n",
      "Epoch 18: loss did not improve from 0.63576\n",
      "7/7 [==============================] - 0s 5ms/step - loss: 0.6410 - accuracy: 0.6190 - lr: 0.0100\n",
      "Epoch 19/100\n",
      "1/7 [===>..........................] - ETA: 0s - loss: 0.5001 - accuracy: 0.6667\n",
      "Epoch 19: loss did not improve from 0.63576\n",
      "7/7 [==============================] - 0s 8ms/step - loss: 0.6449 - accuracy: 0.6190 - lr: 0.0100\n",
      "Epoch 20/100\n",
      "1/7 [===>..........................] - ETA: 0s - loss: 0.5054 - accuracy: 0.6667\n",
      "Epoch 20: loss improved from 0.63576 to 0.63477, saving model to -020-0.6348-0.6190.hdf5\n",
      "7/7 [==============================] - 0s 10ms/step - loss: 0.6348 - accuracy: 0.6190 - lr: 0.0100\n",
      "Epoch 21/100\n",
      "1/7 [===>..........................] - ETA: 0s - loss: 0.7385 - accuracy: 0.6667\n",
      "Epoch 21: loss improved from 0.63477 to 0.63290, saving model to -021-0.6329-0.6667.hdf5\n",
      "7/7 [==============================] - 0s 15ms/step - loss: 0.6329 - accuracy: 0.6667 - lr: 0.0100\n",
      "Epoch 22/100\n",
      "1/7 [===>..........................] - ETA: 0s - loss: 0.4697 - accuracy: 1.0000\n",
      "Epoch 22: loss did not improve from 0.63290\n",
      "7/7 [==============================] - 0s 4ms/step - loss: 0.6360 - accuracy: 0.7619 - lr: 0.0100\n",
      "Epoch 23/100\n",
      "1/7 [===>..........................] - ETA: 0s - loss: 0.4800 - accuracy: 1.0000\n",
      "Epoch 23: loss did not improve from 0.63290\n",
      "7/7 [==============================] - 0s 7ms/step - loss: 0.6357 - accuracy: 0.6667 - lr: 0.0100\n",
      "Epoch 24/100\n",
      "1/7 [===>..........................] - ETA: 0s - loss: 0.6045 - accuracy: 0.6667\n",
      "Epoch 24: loss did not improve from 0.63290\n",
      "\n",
      "Epoch 24: ReduceLROnPlateau reducing learning rate to 0.007999999821186066.\n",
      "7/7 [==============================] - 0s 4ms/step - loss: 0.6490 - accuracy: 0.6190 - lr: 0.0100\n",
      "Epoch 25/100\n",
      "1/7 [===>..........................] - ETA: 0s - loss: 0.5339 - accuracy: 0.6667\n",
      "Epoch 25: loss improved from 0.63290 to 0.62598, saving model to -025-0.6260-0.6667.hdf5\n",
      "7/7 [==============================] - 0s 9ms/step - loss: 0.6260 - accuracy: 0.6667 - lr: 0.0080\n",
      "Epoch 26/100\n",
      "1/7 [===>..........................] - ETA: 0s - loss: 0.5478 - accuracy: 0.6667\n",
      "Epoch 26: loss improved from 0.62598 to 0.62287, saving model to -026-0.6229-0.6190.hdf5\n",
      "7/7 [==============================] - 0s 9ms/step - loss: 0.6229 - accuracy: 0.6190 - lr: 0.0080\n",
      "Epoch 27/100\n",
      "1/7 [===>..........................] - ETA: 0s - loss: 0.8089 - accuracy: 0.3333\n",
      "Epoch 27: loss did not improve from 0.62287\n",
      "7/7 [==============================] - 0s 4ms/step - loss: 0.6238 - accuracy: 0.6667 - lr: 0.0080\n",
      "Epoch 28/100\n",
      "1/7 [===>..........................] - ETA: 0s - loss: 0.4382 - accuracy: 1.0000\n",
      "Epoch 28: loss did not improve from 0.62287\n",
      "7/7 [==============================] - 0s 4ms/step - loss: 0.6254 - accuracy: 0.6667 - lr: 0.0080\n",
      "Epoch 29/100\n",
      "1/7 [===>..........................] - ETA: 0s - loss: 0.7907 - accuracy: 0.6667\n",
      "Epoch 29: loss did not improve from 0.62287\n",
      "\n",
      "Epoch 29: ReduceLROnPlateau reducing learning rate to 0.006399999558925629.\n",
      "7/7 [==============================] - 0s 4ms/step - loss: 0.6236 - accuracy: 0.6667 - lr: 0.0080\n",
      "Epoch 30/100\n",
      "1/7 [===>..........................] - ETA: 0s - loss: 0.4408 - accuracy: 1.0000\n",
      "Epoch 30: loss did not improve from 0.62287\n",
      "7/7 [==============================] - 0s 5ms/step - loss: 0.6386 - accuracy: 0.5714 - lr: 0.0064\n",
      "Epoch 31/100\n",
      "7/7 [==============================] - ETA: 0s - loss: 0.6218 - accuracy: 0.6190\n",
      "Epoch 31: loss improved from 0.62287 to 0.62179, saving model to -031-0.6218-0.6190.hdf5\n",
      "7/7 [==============================] - 0s 22ms/step - loss: 0.6218 - accuracy: 0.6190 - lr: 0.0064\n",
      "Epoch 32/100\n",
      "1/7 [===>..........................] - ETA: 0s - loss: 0.8010 - accuracy: 0.6667\n",
      "Epoch 32: loss improved from 0.62179 to 0.61931, saving model to -032-0.6193-0.6190.hdf5\n",
      "7/7 [==============================] - 0s 13ms/step - loss: 0.6193 - accuracy: 0.6190 - lr: 0.0064\n",
      "Epoch 33/100\n",
      "1/7 [===>..........................] - ETA: 0s - loss: 0.6030 - accuracy: 0.3333\n",
      "Epoch 33: loss improved from 0.61931 to 0.61896, saving model to -033-0.6190-0.6190.hdf5\n",
      "7/7 [==============================] - 0s 10ms/step - loss: 0.6190 - accuracy: 0.6190 - lr: 0.0064\n",
      "Epoch 34/100\n",
      "1/7 [===>..........................] - ETA: 0s - loss: 0.5243 - accuracy: 0.6667\n",
      "Epoch 34: loss did not improve from 0.61896\n",
      "7/7 [==============================] - 0s 4ms/step - loss: 0.6200 - accuracy: 0.6190 - lr: 0.0064\n",
      "Epoch 35/100\n",
      "1/7 [===>..........................] - ETA: 0s - loss: 0.7625 - accuracy: 0.6667\n",
      "Epoch 35: loss did not improve from 0.61896\n",
      "7/7 [==============================] - 0s 6ms/step - loss: 0.6242 - accuracy: 0.7143 - lr: 0.0064\n",
      "Epoch 36/100\n",
      "1/7 [===>..........................] - ETA: 0s - loss: 0.5352 - accuracy: 1.0000\n",
      "Epoch 36: loss improved from 0.61896 to 0.61664, saving model to -036-0.6166-0.7619.hdf5\n",
      "7/7 [==============================] - 0s 14ms/step - loss: 0.6166 - accuracy: 0.7619 - lr: 0.0064\n",
      "Epoch 37/100\n",
      "1/7 [===>..........................] - ETA: 0s - loss: 0.5812 - accuracy: 0.6667\n",
      "Epoch 37: loss did not improve from 0.61664\n",
      "7/7 [==============================] - 0s 8ms/step - loss: 0.6193 - accuracy: 0.6190 - lr: 0.0064\n",
      "Epoch 38/100\n",
      "7/7 [==============================] - ETA: 0s - loss: 0.6177 - accuracy: 0.6190\n",
      "Epoch 38: loss did not improve from 0.61664\n",
      "7/7 [==============================] - 0s 12ms/step - loss: 0.6177 - accuracy: 0.6190 - lr: 0.0064\n",
      "Epoch 39/100\n",
      "7/7 [==============================] - ETA: 0s - loss: 0.6201 - accuracy: 0.6190\n",
      "Epoch 39: loss did not improve from 0.61664\n",
      "\n",
      "Epoch 39: ReduceLROnPlateau reducing learning rate to 0.0051199994981288915.\n",
      "7/7 [==============================] - 0s 14ms/step - loss: 0.6201 - accuracy: 0.6190 - lr: 0.0064\n",
      "Epoch 40/100\n",
      "1/7 [===>..........................] - ETA: 0s - loss: 0.8042 - accuracy: 0.3333\n",
      "Epoch 40: loss did not improve from 0.61664\n",
      "7/7 [==============================] - 0s 7ms/step - loss: 0.6321 - accuracy: 0.6667 - lr: 0.0051\n",
      "Epoch 41/100\n",
      "1/7 [===>..........................] - ETA: 0s - loss: 0.5420 - accuracy: 0.6667\n",
      "Epoch 41: loss did not improve from 0.61664\n",
      "7/7 [==============================] - 0s 6ms/step - loss: 0.6291 - accuracy: 0.5714 - lr: 0.0051\n",
      "Epoch 42/100\n",
      "7/7 [==============================] - ETA: 0s - loss: 0.6158 - accuracy: 0.6190\n",
      "Epoch 42: loss improved from 0.61664 to 0.61579, saving model to -042-0.6158-0.6190.hdf5\n",
      "7/7 [==============================] - 0s 17ms/step - loss: 0.6158 - accuracy: 0.6190 - lr: 0.0051\n",
      "Epoch 43/100\n",
      "1/7 [===>..........................] - ETA: 0s - loss: 0.4757 - accuracy: 1.0000\n",
      "Epoch 43: loss did not improve from 0.61579\n",
      "7/7 [==============================] - 0s 7ms/step - loss: 0.6172 - accuracy: 0.6190 - lr: 0.0051\n",
      "Epoch 44/100\n",
      "1/7 [===>..........................] - ETA: 0s - loss: 0.7394 - accuracy: 0.6667\n",
      "Epoch 44: loss did not improve from 0.61579\n",
      "7/7 [==============================] - 0s 6ms/step - loss: 0.6207 - accuracy: 0.7619 - lr: 0.0051\n",
      "Epoch 45/100\n",
      "1/7 [===>..........................] - ETA: 0s - loss: 0.7358 - accuracy: 0.3333\n",
      "Epoch 45: loss did not improve from 0.61579\n",
      "\n",
      "Epoch 45: ReduceLROnPlateau reducing learning rate to 0.004095999523997307.\n",
      "7/7 [==============================] - 0s 8ms/step - loss: 0.6200 - accuracy: 0.7143 - lr: 0.0051\n",
      "Epoch 46/100\n",
      "1/7 [===>..........................] - ETA: 0s - loss: 0.7950 - accuracy: 0.0000e+00\n",
      "Epoch 46: loss improved from 0.61579 to 0.61486, saving model to -046-0.6149-0.5714.hdf5\n",
      "7/7 [==============================] - 0s 15ms/step - loss: 0.6149 - accuracy: 0.5714 - lr: 0.0041\n",
      "Epoch 47/100\n",
      "1/7 [===>..........................] - ETA: 0s - loss: 0.6135 - accuracy: 0.3333\n",
      "Epoch 47: loss did not improve from 0.61486\n",
      "7/7 [==============================] - 0s 7ms/step - loss: 0.6230 - accuracy: 0.6190 - lr: 0.0041\n",
      "Epoch 48/100\n",
      "1/7 [===>..........................] - ETA: 0s - loss: 0.3848 - accuracy: 1.0000\n",
      "Epoch 48: loss improved from 0.61486 to 0.61055, saving model to -048-0.6106-0.6667.hdf5\n",
      "7/7 [==============================] - 0s 15ms/step - loss: 0.6106 - accuracy: 0.6667 - lr: 0.0041\n",
      "Epoch 49/100\n",
      "1/7 [===>..........................] - ETA: 0s - loss: 0.3440 - accuracy: 1.0000\n",
      "Epoch 49: loss improved from 0.61055 to 0.61050, saving model to -049-0.6105-0.6190.hdf5\n",
      "7/7 [==============================] - 0s 19ms/step - loss: 0.6105 - accuracy: 0.6190 - lr: 0.0041\n",
      "Epoch 50/100\n",
      "1/7 [===>..........................] - ETA: 0s - loss: 0.5271 - accuracy: 0.6667\n",
      "Epoch 50: loss did not improve from 0.61050\n",
      "7/7 [==============================] - 0s 7ms/step - loss: 0.6124 - accuracy: 0.6190 - lr: 0.0041\n",
      "Epoch 51/100\n",
      "1/7 [===>..........................] - ETA: 0s - loss: 0.8933 - accuracy: 0.6667\n",
      "Epoch 51: loss did not improve from 0.61050\n",
      "\n",
      "Epoch 51: ReduceLROnPlateau reducing learning rate to 0.0032767996191978457.\n",
      "7/7 [==============================] - 0s 7ms/step - loss: 0.6132 - accuracy: 0.7143 - lr: 0.0041\n",
      "Epoch 52/100\n",
      "1/7 [===>..........................] - ETA: 0s - loss: 0.5708 - accuracy: 0.6667\n",
      "Epoch 52: loss improved from 0.61050 to 0.60845, saving model to -052-0.6085-0.6667.hdf5\n",
      "7/7 [==============================] - 0s 22ms/step - loss: 0.6085 - accuracy: 0.6667 - lr: 0.0033\n",
      "Epoch 53/100\n",
      "1/7 [===>..........................] - ETA: 0s - loss: 0.4004 - accuracy: 1.0000\n",
      "Epoch 53: loss improved from 0.60845 to 0.60781, saving model to -053-0.6078-0.6667.hdf5\n",
      "7/7 [==============================] - 0s 14ms/step - loss: 0.6078 - accuracy: 0.6667 - lr: 0.0033\n",
      "Epoch 54/100\n",
      "4/7 [================>.............] - ETA: 0s - loss: 0.5656 - accuracy: 0.7500\n",
      "Epoch 54: loss did not improve from 0.60781\n",
      "7/7 [==============================] - 0s 14ms/step - loss: 0.6105 - accuracy: 0.6667 - lr: 0.0033\n",
      "Epoch 55/100\n",
      "1/7 [===>..........................] - ETA: 0s - loss: 0.8310 - accuracy: 0.6667\n",
      "Epoch 55: loss did not improve from 0.60781\n",
      "7/7 [==============================] - 0s 7ms/step - loss: 0.6084 - accuracy: 0.6667 - lr: 0.0033\n",
      "Epoch 56/100\n",
      "7/7 [==============================] - ETA: 0s - loss: 0.6076 - accuracy: 0.6667\n",
      "Epoch 56: loss improved from 0.60781 to 0.60757, saving model to -056-0.6076-0.6667.hdf5\n",
      "7/7 [==============================] - 0s 22ms/step - loss: 0.6076 - accuracy: 0.6667 - lr: 0.0033\n",
      "Epoch 57/100\n",
      "1/7 [===>..........................] - ETA: 0s - loss: 0.5555 - accuracy: 0.6667\n",
      "Epoch 57: loss did not improve from 0.60757\n",
      "7/7 [==============================] - 0s 5ms/step - loss: 0.6077 - accuracy: 0.6190 - lr: 0.0033\n",
      "Epoch 58/100\n",
      "1/7 [===>..........................] - ETA: 0s - loss: 1.0061 - accuracy: 0.0000e+00\n",
      "Epoch 58: loss improved from 0.60757 to 0.60685, saving model to -058-0.6068-0.6667.hdf5\n",
      "7/7 [==============================] - 0s 17ms/step - loss: 0.6068 - accuracy: 0.6667 - lr: 0.0033\n",
      "Epoch 59/100\n",
      "1/7 [===>..........................] - ETA: 0s - loss: 0.4960 - accuracy: 1.0000\n",
      "Epoch 59: loss did not improve from 0.60685\n",
      "7/7 [==============================] - 0s 6ms/step - loss: 0.6080 - accuracy: 0.6190 - lr: 0.0033\n",
      "Epoch 60/100\n",
      "1/7 [===>..........................] - ETA: 0s - loss: 0.7088 - accuracy: 0.6667\n",
      "Epoch 60: loss did not improve from 0.60685\n",
      "7/7 [==============================] - 0s 7ms/step - loss: 0.6078 - accuracy: 0.6667 - lr: 0.0033\n",
      "Epoch 61/100\n",
      "1/7 [===>..........................] - ETA: 0s - loss: 0.3737 - accuracy: 1.0000\n",
      "Epoch 61: loss did not improve from 0.60685\n",
      "\n",
      "Epoch 61: ReduceLROnPlateau reducing learning rate to 0.0026214396581053737.\n",
      "7/7 [==============================] - 0s 7ms/step - loss: 0.6089 - accuracy: 0.7143 - lr: 0.0033\n",
      "Epoch 62/100\n",
      "1/7 [===>..........................] - ETA: 0s - loss: 0.4255 - accuracy: 1.0000\n",
      "Epoch 62: loss improved from 0.60685 to 0.60643, saving model to -062-0.6064-0.6667.hdf5\n",
      "7/7 [==============================] - 0s 14ms/step - loss: 0.6064 - accuracy: 0.6667 - lr: 0.0026\n",
      "Epoch 63/100\n",
      "5/7 [====================>.........] - ETA: 0s - loss: 0.5727 - accuracy: 0.8667\n",
      "Epoch 63: loss did not improve from 0.60643\n",
      "7/7 [==============================] - 0s 14ms/step - loss: 0.6093 - accuracy: 0.7619 - lr: 0.0026\n",
      "Epoch 64/100\n",
      "5/7 [====================>.........] - ETA: 0s - loss: 0.5876 - accuracy: 0.7333\n",
      "Epoch 64: loss did not improve from 0.60643\n",
      "7/7 [==============================] - 0s 11ms/step - loss: 0.6093 - accuracy: 0.6667 - lr: 0.0026\n",
      "Epoch 65/100\n",
      "6/7 [========================>.....] - ETA: 0s - loss: 0.6226 - accuracy: 0.6667\n",
      "Epoch 65: loss improved from 0.60643 to 0.60478, saving model to -065-0.6048-0.6667.hdf5\n",
      "7/7 [==============================] - 0s 28ms/step - loss: 0.6048 - accuracy: 0.6667 - lr: 0.0026\n",
      "Epoch 66/100\n",
      "1/7 [===>..........................] - ETA: 0s - loss: 0.4739 - accuracy: 0.6667\n",
      "Epoch 66: loss improved from 0.60478 to 0.60459, saving model to -066-0.6046-0.6667.hdf5\n",
      "7/7 [==============================] - 0s 13ms/step - loss: 0.6046 - accuracy: 0.6667 - lr: 0.0026\n",
      "Epoch 67/100\n",
      "1/7 [===>..........................] - ETA: 0s - loss: 0.9218 - accuracy: 0.3333\n",
      "Epoch 67: loss did not improve from 0.60459\n",
      "7/7 [==============================] - 0s 8ms/step - loss: 0.6051 - accuracy: 0.6667 - lr: 0.0026\n",
      "Epoch 68/100\n",
      "1/7 [===>..........................] - ETA: 0s - loss: 0.3709 - accuracy: 1.0000\n",
      "Epoch 68: loss did not improve from 0.60459\n",
      "7/7 [==============================] - 0s 7ms/step - loss: 0.6073 - accuracy: 0.6190 - lr: 0.0026\n",
      "Epoch 69/100\n",
      "4/7 [================>.............] - ETA: 0s - loss: 0.5152 - accuracy: 0.6667\n",
      "Epoch 69: loss did not improve from 0.60459\n",
      "\n",
      "Epoch 69: ReduceLROnPlateau reducing learning rate to 0.0020971518009901048.\n",
      "7/7 [==============================] - 0s 14ms/step - loss: 0.6046 - accuracy: 0.6190 - lr: 0.0026\n",
      "Epoch 70/100\n",
      "1/7 [===>..........................] - ETA: 0s - loss: 0.5772 - accuracy: 0.6667\n",
      "Epoch 70: loss improved from 0.60459 to 0.60405, saving model to -070-0.6041-0.6667.hdf5\n",
      "7/7 [==============================] - 0s 15ms/step - loss: 0.6041 - accuracy: 0.6667 - lr: 0.0021\n",
      "Epoch 71/100\n",
      "1/7 [===>..........................] - ETA: 0s - loss: 0.8334 - accuracy: 0.6667\n",
      "Epoch 71: loss did not improve from 0.60405\n",
      "7/7 [==============================] - 0s 8ms/step - loss: 0.6095 - accuracy: 0.7619 - lr: 0.0021\n",
      "Epoch 72/100\n",
      "1/7 [===>..........................] - ETA: 0s - loss: 0.4236 - accuracy: 1.0000\n",
      "Epoch 72: loss improved from 0.60405 to 0.60399, saving model to -072-0.6040-0.7619.hdf5\n",
      "7/7 [==============================] - 0s 18ms/step - loss: 0.6040 - accuracy: 0.7619 - lr: 0.0021\n",
      "Epoch 73/100\n",
      "7/7 [==============================] - ETA: 0s - loss: 0.6053 - accuracy: 0.7143\n",
      "Epoch 73: loss did not improve from 0.60399\n",
      "\n",
      "Epoch 73: ReduceLROnPlateau reducing learning rate to 0.0016777213662862779.\n",
      "7/7 [==============================] - 0s 11ms/step - loss: 0.6053 - accuracy: 0.7143 - lr: 0.0021\n",
      "Epoch 74/100\n",
      "4/7 [================>.............] - ETA: 0s - loss: 0.5748 - accuracy: 0.6667\n",
      "Epoch 74: loss improved from 0.60399 to 0.60249, saving model to -074-0.6025-0.6667.hdf5\n",
      "7/7 [==============================] - 0s 27ms/step - loss: 0.6025 - accuracy: 0.6667 - lr: 0.0017\n",
      "Epoch 75/100\n",
      "1/7 [===>..........................] - ETA: 0s - loss: 0.7057 - accuracy: 0.3333\n",
      "Epoch 75: loss improved from 0.60249 to 0.60212, saving model to -075-0.6021-0.6667.hdf5\n",
      "7/7 [==============================] - 0s 18ms/step - loss: 0.6021 - accuracy: 0.6667 - lr: 0.0017\n",
      "Epoch 76/100\n",
      "1/7 [===>..........................] - ETA: 0s - loss: 0.5785 - accuracy: 0.6667\n",
      "Epoch 76: loss did not improve from 0.60212\n",
      "7/7 [==============================] - 0s 7ms/step - loss: 0.6038 - accuracy: 0.7143 - lr: 0.0017\n",
      "Epoch 77/100\n",
      "1/7 [===>..........................] - ETA: 0s - loss: 0.9130 - accuracy: 0.3333\n",
      "Epoch 77: loss improved from 0.60212 to 0.60117, saving model to -077-0.6012-0.7619.hdf5\n",
      "7/7 [==============================] - 0s 12ms/step - loss: 0.6012 - accuracy: 0.7619 - lr: 0.0017\n",
      "Epoch 78/100\n",
      "1/7 [===>..........................] - ETA: 0s - loss: 0.7316 - accuracy: 0.3333\n",
      "Epoch 78: loss did not improve from 0.60117\n",
      "7/7 [==============================] - 0s 9ms/step - loss: 0.6018 - accuracy: 0.7619 - lr: 0.0017\n",
      "Epoch 79/100\n",
      "1/7 [===>..........................] - ETA: 0s - loss: 0.8521 - accuracy: 0.6667\n",
      "Epoch 79: loss did not improve from 0.60117\n",
      "7/7 [==============================] - 0s 7ms/step - loss: 0.6027 - accuracy: 0.7619 - lr: 0.0017\n",
      "Epoch 80/100\n",
      "1/7 [===>..........................] - ETA: 0s - loss: 0.6502 - accuracy: 0.6667\n",
      "Epoch 80: loss did not improve from 0.60117\n",
      "\n",
      "Epoch 80: ReduceLROnPlateau reducing learning rate to 0.0013421771116554739.\n",
      "7/7 [==============================] - 0s 6ms/step - loss: 0.6020 - accuracy: 0.7143 - lr: 0.0017\n",
      "Epoch 81/100\n",
      "1/7 [===>..........................] - ETA: 0s - loss: 0.5648 - accuracy: 0.6667\n",
      "Epoch 81: loss did not improve from 0.60117\n",
      "7/7 [==============================] - 0s 5ms/step - loss: 0.6013 - accuracy: 0.7143 - lr: 0.0013\n",
      "Epoch 82/100\n",
      "1/7 [===>..........................] - ETA: 0s - loss: 0.4427 - accuracy: 1.0000\n",
      "Epoch 82: loss improved from 0.60117 to 0.60069, saving model to -082-0.6007-0.7619.hdf5\n",
      "7/7 [==============================] - 0s 17ms/step - loss: 0.6007 - accuracy: 0.7619 - lr: 0.0013\n",
      "Epoch 83/100\n",
      "1/7 [===>..........................] - ETA: 0s - loss: 0.6996 - accuracy: 0.6667\n",
      "Epoch 83: loss improved from 0.60069 to 0.60022, saving model to -083-0.6002-0.7619.hdf5\n",
      "7/7 [==============================] - 0s 12ms/step - loss: 0.6002 - accuracy: 0.7619 - lr: 0.0013\n",
      "Epoch 84/100\n",
      "1/7 [===>..........................] - ETA: 0s - loss: 0.4622 - accuracy: 1.0000\n",
      "Epoch 84: loss did not improve from 0.60022\n",
      "7/7 [==============================] - 0s 9ms/step - loss: 0.6021 - accuracy: 0.7619 - lr: 0.0013\n",
      "Epoch 85/100\n",
      "1/7 [===>..........................] - ETA: 0s - loss: 0.8457 - accuracy: 0.3333\n",
      "Epoch 85: loss improved from 0.60022 to 0.60014, saving model to -085-0.6001-0.7619.hdf5\n",
      "7/7 [==============================] - 0s 21ms/step - loss: 0.6001 - accuracy: 0.7619 - lr: 0.0013\n",
      "Epoch 86/100\n",
      "1/7 [===>..........................] - ETA: 0s - loss: 0.5630 - accuracy: 0.6667\n",
      "Epoch 86: loss did not improve from 0.60014\n",
      "\n",
      "Epoch 86: ReduceLROnPlateau reducing learning rate to 0.001073741726577282.\n",
      "7/7 [==============================] - 0s 8ms/step - loss: 0.6015 - accuracy: 0.7619 - lr: 0.0013\n",
      "Epoch 87/100\n",
      "1/7 [===>..........................] - ETA: 0s - loss: 0.7481 - accuracy: 0.6667\n",
      "Epoch 87: loss improved from 0.60014 to 0.60000, saving model to -087-0.6000-0.7619.hdf5\n",
      "7/7 [==============================] - 0s 19ms/step - loss: 0.6000 - accuracy: 0.7619 - lr: 0.0011\n",
      "Epoch 88/100\n",
      "6/7 [========================>.....] - ETA: 0s - loss: 0.5816 - accuracy: 0.7778\n",
      "Epoch 88: loss improved from 0.60000 to 0.59951, saving model to -088-0.5995-0.7619.hdf5\n",
      "7/7 [==============================] - 0s 27ms/step - loss: 0.5995 - accuracy: 0.7619 - lr: 0.0011\n",
      "Epoch 89/100\n",
      "1/7 [===>..........................] - ETA: 0s - loss: 0.5474 - accuracy: 0.6667\n",
      "Epoch 89: loss improved from 0.59951 to 0.59944, saving model to -089-0.5994-0.7619.hdf5\n",
      "7/7 [==============================] - 0s 17ms/step - loss: 0.5994 - accuracy: 0.7619 - lr: 0.0011\n",
      "Epoch 90/100\n",
      "1/7 [===>..........................] - ETA: 0s - loss: 0.6494 - accuracy: 0.6667\n",
      "Epoch 90: loss improved from 0.59944 to 0.59925, saving model to -090-0.5992-0.7619.hdf5\n",
      "7/7 [==============================] - 0s 15ms/step - loss: 0.5992 - accuracy: 0.7619 - lr: 0.0011\n",
      "Epoch 91/100\n",
      "1/7 [===>..........................] - ETA: 0s - loss: 0.9245 - accuracy: 0.6667\n",
      "Epoch 91: loss did not improve from 0.59925\n",
      "7/7 [==============================] - 0s 6ms/step - loss: 0.6004 - accuracy: 0.7619 - lr: 0.0011\n",
      "Epoch 92/100\n",
      "1/7 [===>..........................] - ETA: 0s - loss: 0.6974 - accuracy: 0.6667\n",
      "Epoch 92: loss did not improve from 0.59925\n",
      "7/7 [==============================] - 0s 5ms/step - loss: 0.5993 - accuracy: 0.7619 - lr: 0.0011\n",
      "Epoch 93/100\n",
      "1/7 [===>..........................] - ETA: 0s - loss: 0.5333 - accuracy: 1.0000\n",
      "Epoch 93: loss improved from 0.59925 to 0.59913, saving model to -093-0.5991-0.7619.hdf5\n",
      "7/7 [==============================] - 0s 13ms/step - loss: 0.5991 - accuracy: 0.7619 - lr: 0.0011\n",
      "Epoch 94/100\n",
      "1/7 [===>..........................] - ETA: 0s - loss: 0.7373 - accuracy: 0.6667\n",
      "Epoch 94: loss did not improve from 0.59913\n",
      "7/7 [==============================] - 0s 5ms/step - loss: 0.5997 - accuracy: 0.7619 - lr: 0.0011\n",
      "Epoch 95/100\n",
      "1/7 [===>..........................] - ETA: 0s - loss: 0.9200 - accuracy: 0.6667\n",
      "Epoch 95: loss did not improve from 0.59913\n",
      "7/7 [==============================] - 0s 5ms/step - loss: 0.6011 - accuracy: 0.7619 - lr: 0.0011\n",
      "Epoch 96/100\n",
      "1/7 [===>..........................] - ETA: 0s - loss: 0.6204 - accuracy: 0.6667\n",
      "Epoch 96: loss improved from 0.59913 to 0.59862, saving model to -096-0.5986-0.7619.hdf5\n",
      "7/7 [==============================] - 0s 14ms/step - loss: 0.5986 - accuracy: 0.7619 - lr: 0.0011\n",
      "Epoch 97/100\n",
      "1/7 [===>..........................] - ETA: 0s - loss: 0.4271 - accuracy: 1.0000\n",
      "Epoch 97: loss did not improve from 0.59862\n",
      "7/7 [==============================] - 0s 6ms/step - loss: 0.5990 - accuracy: 0.7619 - lr: 0.0011\n",
      "Epoch 98/100\n",
      "1/7 [===>..........................] - ETA: 0s - loss: 0.5167 - accuracy: 1.0000\n",
      "Epoch 98: loss did not improve from 0.59862\n",
      "7/7 [==============================] - 0s 7ms/step - loss: 0.5987 - accuracy: 0.7619 - lr: 0.0011\n",
      "Epoch 99/100\n",
      "1/7 [===>..........................] - ETA: 0s - loss: 0.7829 - accuracy: 0.6667\n",
      "Epoch 99: loss improved from 0.59862 to 0.59841, saving model to -099-0.5984-0.7619.hdf5\n",
      "7/7 [==============================] - 0s 15ms/step - loss: 0.5984 - accuracy: 0.7619 - lr: 0.0011\n",
      "Epoch 100/100\n",
      "1/7 [===>..........................] - ETA: 0s - loss: 0.3655 - accuracy: 1.0000\n",
      "Epoch 100: loss did not improve from 0.59841\n",
      "7/7 [==============================] - 0s 7ms/step - loss: 0.5998 - accuracy: 0.7619 - lr: 0.0011\n"
     ]
    },
    {
     "data": {
      "text/plain": [
       "<keras.callbacks.History at 0x2602bf43ca0>"
      ]
     },
     "execution_count": 11,
     "metadata": {},
     "output_type": "execute_result"
    }
   ],
   "source": [
    "model.fit(x=InputFeature, y=Label, epochs=100, shuffle=True, batch_size=3, callbacks=CALLBACK)"
   ]
  },
  {
   "cell_type": "markdown",
   "id": "13beca2c",
   "metadata": {},
   "source": [
    "# Model Load 하기 전, hdf5 파일 이름 꼭 확인하기"
   ]
  },
  {
   "cell_type": "code",
   "execution_count": 14,
   "id": "13bdffe6",
   "metadata": {},
   "outputs": [],
   "source": [
    "model.load_weights(\"-099-0.5984-0.7619.hdf5\")\n"
   ]
  },
  {
   "cell_type": "markdown",
   "id": "facab60a",
   "metadata": {},
   "source": [
    "## FLASK 셋팅하기"
   ]
  },
  {
   "cell_type": "code",
   "execution_count": 13,
   "id": "9874dd6d",
   "metadata": {},
   "outputs": [],
   "source": [
    "from flask import Flask\n",
    "from flask import render_template"
   ]
  },
  {
   "cell_type": "code",
   "execution_count": 15,
   "id": "d583e080",
   "metadata": {},
   "outputs": [],
   "source": [
    "app = Flask(__name__)"
   ]
  },
  {
   "cell_type": "markdown",
   "id": "8553c0c4",
   "metadata": {},
   "source": [
    "# FLASK API 구현부분"
   ]
  },
  {
   "cell_type": "code",
   "execution_count": 16,
   "id": "a2c2c5b6",
   "metadata": {},
   "outputs": [],
   "source": [
    "@app.route('/SpecialSale/<busy_day>/<high_temperature>')\n",
    "def PredictionSpecialSale(busy_day=None, high_temperature=None):\n",
    "    Input = pd.DataFrame({\n",
    "        'busy_day':[int(busy_day)],\n",
    "        'high_temperature':[float(high_temperature)]\n",
    "    })\n",
    "    \n",
    "    return str(model.predict(Input)[0][0])"
   ]
  },
  {
   "cell_type": "markdown",
   "id": "7f1437e7",
   "metadata": {},
   "source": [
    "# Flask, port 5000으로 실행"
   ]
  },
  {
   "cell_type": "code",
   "execution_count": 18,
   "id": "55b97941",
   "metadata": {},
   "outputs": [
    {
     "name": "stdout",
     "output_type": "stream",
     "text": [
      " * Serving Flask app '__main__' (lazy loading)\n",
      " * Environment: production\n",
      "\u001b[31m   WARNING: This is a development server. Do not use it in a production deployment.\u001b[0m\n",
      "\u001b[2m   Use a production WSGI server instead.\u001b[0m\n",
      " * Debug mode: off\n"
     ]
    },
    {
     "name": "stderr",
     "output_type": "stream",
     "text": [
      " * Running on all addresses.\n",
      "   WARNING: This is a development server. Do not use it in a production deployment.\n",
      " * Running on http://172.30.1.6:5000/ (Press CTRL+C to quit)\n"
     ]
    },
    {
     "name": "stdout",
     "output_type": "stream",
     "text": [
      "1/1 [==============================] - 0s 229ms/step\n"
     ]
    },
    {
     "name": "stderr",
     "output_type": "stream",
     "text": [
      "172.30.1.6 - - [06/Jul/2022 17:27:30] \"GET /SpecialSale/1/38 HTTP/1.1\" 200 -\n",
      "172.30.1.6 - - [06/Jul/2022 17:27:30] \"GET /favicon.ico HTTP/1.1\" 404 -\n"
     ]
    }
   ],
   "source": [
    "app.run(host='0.0.0.0', port=5000)"
   ]
  },
  {
   "cell_type": "markdown",
   "id": "b50bb9ec",
   "metadata": {},
   "source": [
    "- http://172.30.1.6:5000/SpecialSale/1/38 => 0.31645033"
   ]
  }
 ],
 "metadata": {
  "kernelspec": {
   "display_name": "Python 3.8.13 ('base')",
   "language": "python",
   "name": "python3"
  },
  "language_info": {
   "codemirror_mode": {
    "name": "ipython",
    "version": 3
   },
   "file_extension": ".py",
   "mimetype": "text/x-python",
   "name": "python",
   "nbconvert_exporter": "python",
   "pygments_lexer": "ipython3",
   "version": "3.8.13"
  },
  "vscode": {
   "interpreter": {
    "hash": "ad2bdc8ecc057115af97d19610ffacc2b4e99fae6737bb82f5d7fb13d2f2c186"
   }
  }
 },
 "nbformat": 4,
 "nbformat_minor": 5
}

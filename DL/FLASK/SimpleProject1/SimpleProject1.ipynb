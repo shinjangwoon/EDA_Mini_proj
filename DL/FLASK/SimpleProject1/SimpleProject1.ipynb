{
 "cells": [
  {
   "cell_type": "markdown",
   "id": "e1f2ffe0",
   "metadata": {},
   "source": [
    "## 참고: https://hleecaster.com/ml-linear-regression-example/"
   ]
  },
  {
   "cell_type": "markdown",
   "id": "68454dc7",
   "metadata": {},
   "source": [
    "## 라이브러리 설치, 호출"
   ]
  },
  {
   "cell_type": "markdown",
   "id": "e93443a5",
   "metadata": {},
   "source": [
    "!pip3 install -U scikit-learn<br>\n",
    "!pip3 install pandas<br>\n",
    "!pip3 install numpy<br>\n",
    "!pip3 install matplotlib<br>\n",
    "!pip3 install statsmodels<br>"
   ]
  },
  {
   "cell_type": "code",
   "execution_count": 1,
   "id": "5d627762",
   "metadata": {},
   "outputs": [],
   "source": [
    "import tensorflow as tf\n",
    "import pandas as pd\n",
    "import numpy as np\n",
    "import matplotlib.pyplot as plt\n",
    "import statsmodels.api as sm\n",
    "\n",
    "from tensorflow.keras.models import Sequential, load_model\n",
    "from tensorflow.keras.layers import Dense\n",
    "from tensorflow.keras.optimizers import SGD, Adam\n",
    "from tensorflow.keras.callbacks import ModelCheckpoint, TensorBoard, ReduceLROnPlateau"
   ]
  },
  {
   "cell_type": "markdown",
   "id": "f4b7823f",
   "metadata": {},
   "source": [
    "## 데이터 다운로드 (특별할인 판매)"
   ]
  },
  {
   "cell_type": "code",
   "execution_count": 2,
   "id": "7a59f102",
   "metadata": {},
   "outputs": [
    {
     "name": "stdout",
     "output_type": "stream",
     "text": [
      "         date weekday  busy_day  high_temperature  special_sales\n",
      "0  2002-08-05     Mon         0                28              1\n",
      "1  2002-08-06     Tue         0                24              0\n",
      "2  2002-08-07     Wed         1                26              0\n",
      "3  2002-08-08     Thu         0                24              0\n",
      "4  2002-08-09     Fri         0                23              0\n",
      "(21, 5)\n"
     ]
    }
   ],
   "source": [
    "import pandas as pd\n",
    "df = pd.read_csv('https://raw.githubusercontent.com/jmnote/zdata/master/logistic-regression/special-sales.csv')\n",
    "print(df.head())\n",
    "print(df.shape)"
   ]
  },
  {
   "cell_type": "markdown",
   "id": "40f0380b",
   "metadata": {},
   "source": [
    "## Input, Feature 설정"
   ]
  },
  {
   "cell_type": "code",
   "execution_count": 3,
   "id": "71d020c0",
   "metadata": {},
   "outputs": [],
   "source": [
    "Label = df['special_sales']\n",
    "InputFeature = df[['busy_day','high_temperature']]"
   ]
  },
  {
   "cell_type": "markdown",
   "id": "d32c6cf8",
   "metadata": {},
   "source": [
    "## Keras Logit 모델 fitting"
   ]
  },
  {
   "cell_type": "code",
   "execution_count": 4,
   "id": "d7d4e469",
   "metadata": {},
   "outputs": [],
   "source": [
    "model = Sequential()\n",
    "model.add(Dense(3, activation='linear', input_shape=(2,)))\n",
    "model.add(Dense(1, activation='sigmoid'))\n",
    "\n",
    "model.compile(loss='binary_crossentropy',\n",
    "              optimizer=Adam(learning_rate=0.01), metrics=['accuracy'])"
   ]
  },
  {
   "cell_type": "markdown",
   "id": "9094ae0d",
   "metadata": {},
   "source": [
    "## Keras 모델 살펴보기"
   ]
  },
  {
   "cell_type": "code",
   "execution_count": 5,
   "id": "6e0721af",
   "metadata": {},
   "outputs": [
    {
     "name": "stdout",
     "output_type": "stream",
     "text": [
      "Model: \"sequential\"\n",
      "_________________________________________________________________\n",
      " Layer (type)                Output Shape              Param #   \n",
      "=================================================================\n",
      " dense (Dense)               (None, 3)                 9         \n",
      "                                                                 \n",
      " dense_1 (Dense)             (None, 1)                 4         \n",
      "                                                                 \n",
      "=================================================================\n",
      "Total params: 13\n",
      "Trainable params: 13\n",
      "Non-trainable params: 0\n",
      "_________________________________________________________________\n"
     ]
    }
   ],
   "source": [
    "model.summary()"
   ]
  },
  {
   "cell_type": "markdown",
   "id": "a3275484",
   "metadata": {},
   "source": [
    "## Call-back 함수\n",
    "## 모델 학습"
   ]
  },
  {
   "cell_type": "code",
   "execution_count": 6,
   "id": "0265eb03",
   "metadata": {},
   "outputs": [],
   "source": [
    "# Call-back 함수\n",
    "# CheckPoint: Epoch 마다 validation 성능을 검증하여, best performance 일 경우 저장\n",
    "CP = ModelCheckpoint(filepath='-{epoch:03d}-{loss:.4f}-{accuracy:.4f}.hdf5',\n",
    "            monitor='loss', verbose=1, save_best_only=True, mode='min')\n",
    "\n",
    "# Learning Rate 줄여나가기\n",
    "LR = ReduceLROnPlateau(monitor='loss',factor=0.8,patience=3, verbose=1, min_lr=1e-8)\n",
    "\n",
    "CALLBACK = [CP, LR]"
   ]
  },
  {
   "cell_type": "code",
   "execution_count": 7,
   "id": "19ebe13f",
   "metadata": {},
   "outputs": [],
   "source": [
    "# model.fit(x=InputFeature, y=Label, epochs=100, shuffle=True, batch_size=3, callbacks=CALLBACK)"
   ]
  },
  {
   "cell_type": "markdown",
   "id": "8cc549da",
   "metadata": {},
   "source": [
    "# Model Load 하기 전, hdf5 파일 이름 꼭 확인하기"
   ]
  },
  {
   "cell_type": "code",
   "execution_count": 8,
   "id": "82688a7e",
   "metadata": {},
   "outputs": [],
   "source": [
    "model.load_weights(\"-098-0.5495-0.7619.hdf5\")"
   ]
  },
  {
   "cell_type": "markdown",
   "id": "e1d15266",
   "metadata": {},
   "source": [
    "## FLASK 셋팅하기"
   ]
  },
  {
   "cell_type": "code",
   "execution_count": 9,
   "id": "70d0c1e1",
   "metadata": {},
   "outputs": [],
   "source": [
    "from flask import Flask\n",
    "from flask import render_template\n",
    "from flask import request"
   ]
  },
  {
   "cell_type": "code",
   "execution_count": 10,
   "id": "56773ef9",
   "metadata": {},
   "outputs": [],
   "source": [
    "app = Flask(__name__)"
   ]
  },
  {
   "cell_type": "markdown",
   "id": "222a9e28",
   "metadata": {},
   "source": [
    "# FLASK API 구현부분"
   ]
  },
  {
   "cell_type": "code",
   "execution_count": 11,
   "id": "bc0c3b82",
   "metadata": {},
   "outputs": [],
   "source": [
    "@app.route('/')\n",
    "@app.route('/SpecialSale')\n",
    "def PredictionSpecialSale():\n",
    "    busy_day = request.args.get('busy_day')\n",
    "    high_temperature = request.args.get('high_temperature')\n",
    "    \n",
    "    print(busy_day, high_temperature)\n",
    "    \n",
    "    if busy_day == None or high_temperature == None:\n",
    "        return render_template('SpecialSale.html', Output = '')\n",
    "    \n",
    "    Input = pd.DataFrame({\n",
    "        'busy_day':[int(busy_day)],\n",
    "        'high_temperature':[float(high_temperature)]\n",
    "    })\n",
    "    ModelOutput = model.predict(Input)[0][0]\n",
    "\n",
    "    return render_template('SpecialSale.html', Output = ModelOutput)"
   ]
  },
  {
   "cell_type": "markdown",
   "id": "eddf9d92",
   "metadata": {},
   "source": [
    "# Flask, port 5000으로 실행"
   ]
  },
  {
   "cell_type": "code",
   "execution_count": null,
   "id": "9e8821ba",
   "metadata": {
    "scrolled": true
   },
   "outputs": [
    {
     "name": "stdout",
     "output_type": "stream",
     "text": [
      " * Serving Flask app '__main__' (lazy loading)\n",
      " * Environment: production\n",
      "\u001b[31m   WARNING: This is a development server. Do not use it in a production deployment.\u001b[0m\n",
      "\u001b[2m   Use a production WSGI server instead.\u001b[0m\n",
      " * Debug mode: off\n"
     ]
    },
    {
     "name": "stderr",
     "output_type": "stream",
     "text": [
      " * Running on all addresses (0.0.0.0)\n",
      "   WARNING: This is a development server. Do not use it in a production deployment.\n",
      " * Running on http://127.0.0.1:5000\n",
      " * Running on http://192.168.2.16:5000 (Press CTRL+C to quit)\n",
      "127.0.0.1 - - [07/Jul/2022 09:59:57] \"GET / HTTP/1.1\" 200 -\n"
     ]
    },
    {
     "name": "stdout",
     "output_type": "stream",
     "text": [
      "None None\n",
      "1 38\n",
      "1/1 [==============================] - 0s 369ms/step\n"
     ]
    },
    {
     "name": "stderr",
     "output_type": "stream",
     "text": [
      "127.0.0.1 - - [07/Jul/2022 10:00:01] \"GET /SpecialSale?busy_day=1&high_temperature=38 HTTP/1.1\" 200 -\n",
      "127.0.0.1 - - [07/Jul/2022 10:10:42] \"GET / HTTP/1.1\" 200 -\n"
     ]
    },
    {
     "name": "stdout",
     "output_type": "stream",
     "text": [
      "None None\n",
      "0 18\n",
      "1/1 [==============================] - 0s 21ms/step\n"
     ]
    },
    {
     "name": "stderr",
     "output_type": "stream",
     "text": [
      "127.0.0.1 - - [07/Jul/2022 10:11:00] \"GET /SpecialSale?busy_day=0&high_temperature=18 HTTP/1.1\" 200 -\n"
     ]
    },
    {
     "name": "stdout",
     "output_type": "stream",
     "text": [
      "1 50\n",
      "1/1 [==============================] - 0s 36ms/step\n"
     ]
    },
    {
     "name": "stderr",
     "output_type": "stream",
     "text": [
      "127.0.0.1 - - [07/Jul/2022 10:11:14] \"GET /SpecialSale?busy_day=1&high_temperature=50 HTTP/1.1\" 200 -\n"
     ]
    }
   ],
   "source": [
    "app.run(host='0.0.0.0', port=5000)"
   ]
  },
  {
   "cell_type": "code",
   "execution_count": null,
   "id": "f0e87d37",
   "metadata": {},
   "outputs": [],
   "source": [
    "# http://127.0.0.1:5000/SpecialSale/1/38"
   ]
  }
 ],
 "metadata": {
  "kernelspec": {
   "display_name": "Python 3 (ipykernel)",
   "language": "python",
   "name": "python3"
  },
  "language_info": {
   "codemirror_mode": {
    "name": "ipython",
    "version": 3
   },
   "file_extension": ".py",
   "mimetype": "text/x-python",
   "name": "python",
   "nbconvert_exporter": "python",
   "pygments_lexer": "ipython3",
   "version": "3.10.2"
  }
 },
 "nbformat": 4,
 "nbformat_minor": 5
}

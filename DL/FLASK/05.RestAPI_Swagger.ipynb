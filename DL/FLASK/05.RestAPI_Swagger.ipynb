{
 "cells": [
  {
   "cell_type": "code",
   "execution_count": 8,
   "id": "8579bb86",
   "metadata": {},
   "outputs": [],
   "source": [
    "from flask import Flask\n",
    "from flask import render_template\n",
    "from flask_restx import Api, Resource, reqparse"
   ]
  },
  {
   "cell_type": "code",
   "execution_count": 9,
   "id": "18fa17a1",
   "metadata": {},
   "outputs": [],
   "source": [
    "app = Flask(__name__)\n",
    "api = Api(app, version='1.0', title='API 문서', description='Swagger 문서', doc=\"/api-docs\")\n",
    "FlaskAPI = api.namespace('test', description='조회 API')"
   ]
  },
  {
   "cell_type": "code",
   "execution_count": 10,
   "id": "8ffbab0d",
   "metadata": {},
   "outputs": [],
   "source": [
    "@FlaskAPI.route('/hello')\n",
    "class hello_world(Resource):\n",
    "    def get(self):\n",
    "        return \"hello world\""
   ]
  },
  {
   "cell_type": "code",
   "execution_count": 11,
   "id": "4946c3b5",
   "metadata": {},
   "outputs": [],
   "source": [
    "@FlaskAPI.route('/product/<name>')\n",
    "class get_product(Resource):\n",
    "    def get(self):\n",
    "        return \"The product is \" + str(name)"
   ]
  },
  {
   "cell_type": "code",
   "execution_count": 12,
   "id": "40716105",
   "metadata": {},
   "outputs": [],
   "source": [
    "@FlaskAPI.route('/sale/<transaction_id>')\n",
    "class get_sale(Resource):\n",
    "    def get(self, transaction_id=0):\n",
    "        return \"The transaction is \"+str(transaction_id)"
   ]
  },
  {
   "cell_type": "code",
   "execution_count": 13,
   "id": "85729a5f",
   "metadata": {},
   "outputs": [],
   "source": [
    "@FlaskAPI.route('/create/<first_name>/<last_name>')\n",
    "class create(Resource):\n",
    "    def get(self, first_name=None, last_name=None):\n",
    "        return 'Hello ' + first_name + ',' + last_name"
   ]
  },
  {
   "cell_type": "code",
   "execution_count": 17,
   "id": "1fc097aa",
   "metadata": {},
   "outputs": [
    {
     "name": "stdout",
     "output_type": "stream",
     "text": [
      " * Serving Flask app '__main__' (lazy loading)\n",
      " * Environment: production\n",
      "\u001b[31m   WARNING: This is a development server. Do not use it in a production deployment.\u001b[0m\n",
      "\u001b[2m   Use a production WSGI server instead.\u001b[0m\n",
      " * Debug mode: off\n"
     ]
    },
    {
     "name": "stderr",
     "output_type": "stream",
     "text": [
      " * Running on all addresses (0.0.0.0)\n",
      "   WARNING: This is a development server. Do not use it in a production deployment.\n",
      " * Running on http://127.0.0.1:5000\n",
      " * Running on http://172.30.1.6:5000 (Press CTRL+C to quit)\n"
     ]
    }
   ],
   "source": [
    "app.run(host='0.0.0.0', port=5000)"
   ]
  },
  {
   "cell_type": "code",
   "execution_count": null,
   "id": "13870a9c",
   "metadata": {},
   "outputs": [],
   "source": [
    "# http://127.0.0.1:5000/test/hello\n",
    "# http://127.0.0.1:5000/test/sale/300"
   ]
  }
 ],
 "metadata": {
  "kernelspec": {
   "display_name": "Python 3.9.7 64-bit",
   "language": "python",
   "name": "python3"
  },
  "language_info": {
   "codemirror_mode": {
    "name": "ipython",
    "version": 3
   },
   "file_extension": ".py",
   "mimetype": "text/x-python",
   "name": "python",
   "nbconvert_exporter": "python",
   "pygments_lexer": "ipython3",
   "version": "3.9.7"
  },
  "vscode": {
   "interpreter": {
    "hash": "9426e18a419b227a0a7f1551a09002ab5a347b9ac05753b78fbf477685830269"
   }
  }
 },
 "nbformat": 4,
 "nbformat_minor": 5
}

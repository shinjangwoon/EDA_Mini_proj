{
  "nbformat": 4,
  "nbformat_minor": 0,
  "metadata": {
    "colab": {
      "name": "Throid Cancer (heatmap) .ipynb",
      "provenance": [],
      "collapsed_sections": [],
      "machine_shape": "hm",
      "mount_file_id": "17u_fCuPLLo-VRZ9JILlRqaICD1s8WWAO",
      "authorship_tag": "ABX9TyM3sNsklQTMQfr8MFPmpZob"
    },
    "kernelspec": {
      "name": "python3",
      "display_name": "Python 3"
    },
    "language_info": {
      "name": "python"
    },
    "accelerator": "GPU",
    "gpuClass": "standard"
  },
  "cells": [
    {
      "cell_type": "code",
      "source": [
        "pip install scikit-plot"
      ],
      "metadata": {
        "colab": {
          "base_uri": "https://localhost:8080/"
        },
        "id": "jIdk45rNmzI-",
        "outputId": "f847a6f9-d574-44ad-e01b-4abaef180a55"
      },
      "execution_count": null,
      "outputs": [
        {
          "output_type": "stream",
          "name": "stdout",
          "text": [
            "Looking in indexes: https://pypi.org/simple, https://us-python.pkg.dev/colab-wheels/public/simple/\n",
            "Collecting scikit-plot\n",
            "  Downloading scikit_plot-0.3.7-py3-none-any.whl (33 kB)\n",
            "Requirement already satisfied: joblib>=0.10 in /usr/local/lib/python3.7/dist-packages (from scikit-plot) (1.1.0)\n",
            "Requirement already satisfied: scikit-learn>=0.18 in /usr/local/lib/python3.7/dist-packages (from scikit-plot) (1.0.2)\n",
            "Requirement already satisfied: scipy>=0.9 in /usr/local/lib/python3.7/dist-packages (from scikit-plot) (1.7.3)\n",
            "Requirement already satisfied: matplotlib>=1.4.0 in /usr/local/lib/python3.7/dist-packages (from scikit-plot) (3.2.2)\n",
            "Requirement already satisfied: cycler>=0.10 in /usr/local/lib/python3.7/dist-packages (from matplotlib>=1.4.0->scikit-plot) (0.11.0)\n",
            "Requirement already satisfied: pyparsing!=2.0.4,!=2.1.2,!=2.1.6,>=2.0.1 in /usr/local/lib/python3.7/dist-packages (from matplotlib>=1.4.0->scikit-plot) (3.0.9)\n",
            "Requirement already satisfied: kiwisolver>=1.0.1 in /usr/local/lib/python3.7/dist-packages (from matplotlib>=1.4.0->scikit-plot) (1.4.4)\n",
            "Requirement already satisfied: numpy>=1.11 in /usr/local/lib/python3.7/dist-packages (from matplotlib>=1.4.0->scikit-plot) (1.21.6)\n",
            "Requirement already satisfied: python-dateutil>=2.1 in /usr/local/lib/python3.7/dist-packages (from matplotlib>=1.4.0->scikit-plot) (2.8.2)\n",
            "Requirement already satisfied: typing-extensions in /usr/local/lib/python3.7/dist-packages (from kiwisolver>=1.0.1->matplotlib>=1.4.0->scikit-plot) (4.1.1)\n",
            "Requirement already satisfied: six>=1.5 in /usr/local/lib/python3.7/dist-packages (from python-dateutil>=2.1->matplotlib>=1.4.0->scikit-plot) (1.15.0)\n",
            "Requirement already satisfied: threadpoolctl>=2.0.0 in /usr/local/lib/python3.7/dist-packages (from scikit-learn>=0.18->scikit-plot) (3.1.0)\n",
            "Installing collected packages: scikit-plot\n",
            "Successfully installed scikit-plot-0.3.7\n"
          ]
        }
      ]
    },
    {
      "cell_type": "code",
      "source": [
        "import tensorflow as tf\n",
        "import numpy as np\n",
        "\n",
        "import pandas as pd\n",
        "import cv2\n",
        "import os\n",
        "import math\n",
        "import scipy as sp\n",
        "import PIL\n",
        "\n",
        "# Tensorflow\n",
        "from tensorflow.keras import models, layers, Model\n",
        "from tensorflow.keras.models import Sequential, load_model\n",
        "from tensorflow.keras.layers import Conv2D, MaxPooling2D\n",
        "from tensorflow.keras.layers import Dense, Dropout, Flatten, GlobalAveragePooling2D\n",
        "from tensorflow.keras.layers import Flatten, Dense, Dropout, ZeroPadding2D\n",
        "\n",
        "from tensorflow.keras.preprocessing.image import ImageDataGenerator\n",
        "from tensorflow.keras.callbacks import ModelCheckpoint, TensorBoard, ReduceLROnPlateau\n",
        "from tensorflow.keras import optimizers\n",
        "from tensorflow.keras.optimizers import SGD\n",
        "from tensorflow.keras.models import Model\n",
        "from tensorflow.keras.preprocessing import image\n",
        "from tensorflow.keras.applications import EfficientNetB4, EfficientNetB6, ResNet50V2\n",
        "#from keras_tuner.tuners import RandomSearch\n",
        "\n",
        "import scikitplot as skplt\n",
        "from sklearn.metrics import roc_auc_score\n",
        "import matplotlib.pyplot as plt"
      ],
      "metadata": {
        "id": "xgH8EX1HuL-R"
      },
      "execution_count": null,
      "outputs": []
    },
    {
      "cell_type": "code",
      "execution_count": null,
      "metadata": {
        "id": "HWSmNV8VsBKp"
      },
      "outputs": [],
      "source": [
        "# !unzip -uq '/content/drive/MyDrive/Colab Notebooks/03_MultiCenter/qQWE2qsac.zip' -d '/content/drive/MyDrive/Colab Notebooks/03_MultiCenter/raw_image'"
      ]
    },
    {
      "cell_type": "code",
      "source": [
        "# batch_size: 한번에 forward & Backword 하는 샘플의 수\n",
        "batch_size = 16\n",
        "\n",
        "# Training 수\n",
        "epochs = 30\n",
        "\n",
        "# Weight 조절 parameter\n",
        "LearningRate = 1e-3 # 0.001\n",
        "Decay = 1e-6\n",
        "\n",
        "img_width = 224\n",
        "img_height = 224"
      ],
      "metadata": {
        "id": "mgNVn4YHvzVP"
      },
      "execution_count": null,
      "outputs": []
    },
    {
      "cell_type": "code",
      "source": [
        "# !pip install split-folders"
      ],
      "metadata": {
        "colab": {
          "base_uri": "https://localhost:8080/"
        },
        "id": "y8X66n5htLOC",
        "outputId": "d0f72f99-1cae-4eec-b5b5-bbbab10db80b"
      },
      "execution_count": null,
      "outputs": [
        {
          "output_type": "stream",
          "name": "stdout",
          "text": [
            "Looking in indexes: https://pypi.org/simple, https://us-python.pkg.dev/colab-wheels/public/simple/\n",
            "Collecting split-folders\n",
            "  Downloading split_folders-0.5.1-py3-none-any.whl (8.4 kB)\n",
            "Installing collected packages: split-folders\n",
            "Successfully installed split-folders-0.5.1\n"
          ]
        }
      ]
    },
    {
      "cell_type": "code",
      "source": [
        "# input_dir = \"/content/drive/MyDrive/Colab Notebooks/03_MultiCenter/raw_image/\"\n",
        "# output_dir = \"/content/drive/MyDrive/Colab Notebooks/03_MultiCenter/data/\""
      ],
      "metadata": {
        "id": "bTRAvEL4s8Oo"
      },
      "execution_count": null,
      "outputs": []
    },
    {
      "cell_type": "code",
      "source": [
        "# import splitfolders\n",
        "# splitfolders.ratio(input_dir, output_dir, seed=77, ratio=(.9,.1) )"
      ],
      "metadata": {
        "colab": {
          "base_uri": "https://localhost:8080/"
        },
        "id": "EPtJnEE5s5M6",
        "outputId": "61324f5d-01c0-46ed-8606-08fdbffc45df"
      },
      "execution_count": null,
      "outputs": [
        {
          "output_type": "stream",
          "name": "stderr",
          "text": [
            "Copying files: 12559 files [06:16, 33.33 files/s] \n"
          ]
        }
      ]
    },
    {
      "cell_type": "code",
      "source": [
        "# 디렉토리 경로 설정 필요\n",
        "CurrentDirectory = \"/content/drive/MyDrive/Colab Notebooks/03_MultiCenter/data/\"\n",
        "\n",
        "train_directory = CurrentDirectory + 'train/'\n",
        "test_directory  = CurrentDirectory + 'test/'\n",
        "model_directory = CurrentDirectory + 'Model/'\n",
        "tensorboard_directory = CurrentDirectory + 'Tensorboard'"
      ],
      "metadata": {
        "id": "BfV7ZoHMyZ1M"
      },
      "execution_count": null,
      "outputs": []
    },
    {
      "cell_type": "code",
      "source": [
        "os.listdir(test_directory), os.listdir(train_directory)"
      ],
      "metadata": {
        "colab": {
          "base_uri": "https://localhost:8080/"
        },
        "id": "MIt8myBMrpSh",
        "outputId": "2c924114-1e77-4e5e-df4a-17af117d039d"
      },
      "execution_count": null,
      "outputs": [
        {
          "output_type": "execute_result",
          "data": {
            "text/plain": [
              "(['Benign', 'Cancer'], ['Benign', 'Cancer'])"
            ]
          },
          "metadata": {},
          "execution_count": 9
        }
      ]
    },
    {
      "cell_type": "code",
      "source": [
        "# 모델 Return\n",
        "VGGModel = tf.keras.applications.VGG16(include_top=False, weights='imagenet', input_tensor=None, input_shape=(img_width,img_height,3), pooling=None)\n",
        "x = GlobalAveragePooling2D()(VGGModel.output)\n",
        "predictions = Dense(2, activation='softmax')(x)\n",
        "\n",
        "DeepLearning = Model(inputs=VGGModel.input, outputs=predictions)\n",
        "\n",
        "# learning parameter를 더하여 최종 model compile\n",
        "DeepLearning.compile(optimizer=\n",
        "         SGD(lr=LearningRate, decay=Decay, momentum=0.9, nesterov=True), \n",
        "         loss='categorical_crossentropy',\n",
        "         metrics=['acc']\n",
        ") # 나이를, MSE\n"
      ],
      "metadata": {
        "colab": {
          "base_uri": "https://localhost:8080/"
        },
        "id": "R1aF_3G_pFxX",
        "outputId": "9776a268-ad95-421a-a5bf-e499b7f0147f"
      },
      "execution_count": null,
      "outputs": [
        {
          "output_type": "stream",
          "name": "stdout",
          "text": [
            "Downloading data from https://storage.googleapis.com/tensorflow/keras-applications/vgg16/vgg16_weights_tf_dim_ordering_tf_kernels_notop.h5\n",
            "58892288/58889256 [==============================] - 0s 0us/step\n",
            "58900480/58889256 [==============================] - 0s 0us/step\n"
          ]
        },
        {
          "output_type": "stream",
          "name": "stderr",
          "text": [
            "/usr/local/lib/python3.7/dist-packages/keras/optimizer_v2/gradient_descent.py:102: UserWarning: The `lr` argument is deprecated, use `learning_rate` instead.\n",
            "  super(SGD, self).__init__(name, **kwargs)\n"
          ]
        }
      ]
    },
    {
      "cell_type": "code",
      "source": [
        "VGGModel.summary()"
      ],
      "metadata": {
        "colab": {
          "base_uri": "https://localhost:8080/"
        },
        "id": "KXH3DmwOvHJx",
        "outputId": "1b8869b2-e38e-4fd6-de90-a53d9547440e"
      },
      "execution_count": null,
      "outputs": [
        {
          "output_type": "stream",
          "name": "stdout",
          "text": [
            "Model: \"vgg16\"\n",
            "_________________________________________________________________\n",
            " Layer (type)                Output Shape              Param #   \n",
            "=================================================================\n",
            " input_1 (InputLayer)        [(None, 224, 224, 3)]     0         \n",
            "                                                                 \n",
            " block1_conv1 (Conv2D)       (None, 224, 224, 64)      1792      \n",
            "                                                                 \n",
            " block1_conv2 (Conv2D)       (None, 224, 224, 64)      36928     \n",
            "                                                                 \n",
            " block1_pool (MaxPooling2D)  (None, 112, 112, 64)      0         \n",
            "                                                                 \n",
            " block2_conv1 (Conv2D)       (None, 112, 112, 128)     73856     \n",
            "                                                                 \n",
            " block2_conv2 (Conv2D)       (None, 112, 112, 128)     147584    \n",
            "                                                                 \n",
            " block2_pool (MaxPooling2D)  (None, 56, 56, 128)       0         \n",
            "                                                                 \n",
            " block3_conv1 (Conv2D)       (None, 56, 56, 256)       295168    \n",
            "                                                                 \n",
            " block3_conv2 (Conv2D)       (None, 56, 56, 256)       590080    \n",
            "                                                                 \n",
            " block3_conv3 (Conv2D)       (None, 56, 56, 256)       590080    \n",
            "                                                                 \n",
            " block3_pool (MaxPooling2D)  (None, 28, 28, 256)       0         \n",
            "                                                                 \n",
            " block4_conv1 (Conv2D)       (None, 28, 28, 512)       1180160   \n",
            "                                                                 \n",
            " block4_conv2 (Conv2D)       (None, 28, 28, 512)       2359808   \n",
            "                                                                 \n",
            " block4_conv3 (Conv2D)       (None, 28, 28, 512)       2359808   \n",
            "                                                                 \n",
            " block4_pool (MaxPooling2D)  (None, 14, 14, 512)       0         \n",
            "                                                                 \n",
            " block5_conv1 (Conv2D)       (None, 14, 14, 512)       2359808   \n",
            "                                                                 \n",
            " block5_conv2 (Conv2D)       (None, 14, 14, 512)       2359808   \n",
            "                                                                 \n",
            " block5_conv3 (Conv2D)       (None, 14, 14, 512)       2359808   \n",
            "                                                                 \n",
            " block5_pool (MaxPooling2D)  (None, 7, 7, 512)         0         \n",
            "                                                                 \n",
            "=================================================================\n",
            "Total params: 14,714,688\n",
            "Trainable params: 14,714,688\n",
            "Non-trainable params: 0\n",
            "_________________________________________________________________\n"
          ]
        }
      ]
    },
    {
      "cell_type": "code",
      "source": [
        "# Online-augmentation 적용 Generator\n",
        "# 1. 이미지를 전부다 불러서 램 (메모리)에 올릴 수 없기 때문\n",
        "# 2. 이미지는 Augmentation을 해주는게 좋아서\n",
        "\n",
        "DATAGEN_TRAIN = ImageDataGenerator(\n",
        "    rescale=1./255,\n",
        "    rotation_range=20,\n",
        "    width_shift_range=0.2,\n",
        "    height_shift_range=0.2,\n",
        "    shear_range=0.2,\n",
        "    zoom_range=0.2,\n",
        "    horizontal_flip=True,\n",
        "    vertical_flip=True,\n",
        "    featurewise_center=True,\n",
        "    featurewise_std_normalization=True,\n",
        "    data_format=\"channels_last\",\n",
        "    validation_split=0.10) # Train / Validation\n",
        "\n",
        "# Online-augmentation 비적용 Generator (Test용)\n",
        "DATAGEN_TEST = ImageDataGenerator(\n",
        "    rescale=1./255,\n",
        "    featurewise_center=True,\n",
        "    featurewise_std_normalization=True,\n",
        "    data_format=\"channels_last\")"
      ],
      "metadata": {
        "id": "DfqdKL-spFuY"
      },
      "execution_count": null,
      "outputs": []
    },
    {
      "cell_type": "code",
      "source": [
        "# Generator의 instance 생성 (Train)\n",
        "TRAIN_GENERATOR = DATAGEN_TRAIN.flow_from_directory(\n",
        "    train_directory,\n",
        "    target_size = (img_width, img_height),\n",
        "    batch_size = batch_size,\n",
        "    class_mode= \"categorical\",\n",
        "    subset = \"training\")\n",
        "\n",
        "VALID_GENERATOR = DATAGEN_TRAIN.flow_from_directory(\n",
        "    train_directory,\n",
        "    target_size = (img_width, img_height),\n",
        "    batch_size = batch_size,\n",
        "    class_mode= \"categorical\",\n",
        "    subset = \"validation\")\n",
        "\n",
        "# Generator의 instance 생성 (Test)\n",
        "TEST_GENERATOR = DATAGEN_TEST.flow_from_directory(\n",
        "    test_directory,\n",
        "    target_size = (img_width, img_height),\n",
        "    batch_size = batch_size,\n",
        "    shuffle = False,\n",
        "    class_mode= \"categorical\")"
      ],
      "metadata": {
        "colab": {
          "base_uri": "https://localhost:8080/"
        },
        "id": "tvCu8wd1pFq0",
        "outputId": "25afda1e-a7e2-44c4-e7f7-554c1cbb976c"
      },
      "execution_count": null,
      "outputs": [
        {
          "output_type": "stream",
          "name": "stdout",
          "text": [
            "Found 10172 images belonging to 2 classes.\n",
            "Found 1130 images belonging to 2 classes.\n",
            "Found 1257 images belonging to 2 classes.\n"
          ]
        }
      ]
    },
    {
      "cell_type": "code",
      "source": [
        "TEST_GENERATOR.__getitem__(0)[1]"
      ],
      "metadata": {
        "colab": {
          "base_uri": "https://localhost:8080/"
        },
        "id": "YcIQ85zrpFjR",
        "outputId": "7bd64ccd-8ee5-4cc7-8336-35a05cbf3cf4"
      },
      "execution_count": null,
      "outputs": [
        {
          "output_type": "stream",
          "name": "stderr",
          "text": [
            "/usr/local/lib/python3.7/dist-packages/keras_preprocessing/image/image_data_generator.py:720: UserWarning: This ImageDataGenerator specifies `featurewise_center`, but it hasn't been fit on any training data. Fit it first by calling `.fit(numpy_data)`.\n",
            "  warnings.warn('This ImageDataGenerator specifies '\n",
            "/usr/local/lib/python3.7/dist-packages/keras_preprocessing/image/image_data_generator.py:728: UserWarning: This ImageDataGenerator specifies `featurewise_std_normalization`, but it hasn't been fit on any training data. Fit it first by calling `.fit(numpy_data)`.\n",
            "  warnings.warn('This ImageDataGenerator specifies '\n"
          ]
        },
        {
          "output_type": "execute_result",
          "data": {
            "text/plain": [
              "array([[1., 0.],\n",
              "       [1., 0.],\n",
              "       [1., 0.],\n",
              "       [1., 0.],\n",
              "       [1., 0.],\n",
              "       [1., 0.],\n",
              "       [1., 0.],\n",
              "       [1., 0.],\n",
              "       [1., 0.],\n",
              "       [1., 0.],\n",
              "       [1., 0.],\n",
              "       [1., 0.],\n",
              "       [1., 0.],\n",
              "       [1., 0.],\n",
              "       [1., 0.],\n",
              "       [1., 0.]], dtype=float32)"
            ]
          },
          "metadata": {},
          "execution_count": 14
        }
      ]
    },
    {
      "cell_type": "code",
      "source": [
        "# Call-back 함수\n",
        "\n",
        "# CheckPoint: Epoch 마다 validation 성능을 검증하여, best performance 일 경우 저장\n",
        "CP = ModelCheckpoint(filepath=model_directory+'VGG16-{epoch:03d}-{val_loss:.4f}-{val_acc:.4f}.hdf5',\n",
        "            monitor='val_acc', verbose=1, save_best_only=True, mode='max')\n",
        "\n",
        "# 학습과정 진행사항 확인\n",
        "TB = TensorBoard(log_dir=tensorboard_directory, write_graph=True, write_images=True)\n",
        "\n",
        "# Learning Rate 줄여나가기\n",
        "LR = ReduceLROnPlateau(monitor='val_loss',factor=0.8,patience=3, verbose=1, min_lr=1e-8)\n",
        "\n",
        "CALLBACK = [CP, TB, LR]"
      ],
      "metadata": {
        "id": "sAYtjXb4pFez"
      },
      "execution_count": null,
      "outputs": []
    },
    {
      "cell_type": "code",
      "source": [
        "from tensorflow.python.client import device_lib\n",
        "print(device_lib.list_local_devices())\n"
      ],
      "metadata": {
        "colab": {
          "base_uri": "https://localhost:8080/"
        },
        "id": "Iu2xLrbByimk",
        "outputId": "7aefec54-84ae-40b3-c83b-72d7dea2327a"
      },
      "execution_count": null,
      "outputs": [
        {
          "output_type": "stream",
          "name": "stdout",
          "text": [
            "[name: \"/device:CPU:0\"\n",
            "device_type: \"CPU\"\n",
            "memory_limit: 268435456\n",
            "locality {\n",
            "}\n",
            "incarnation: 14268896199064677300\n",
            "xla_global_id: -1\n",
            ", name: \"/device:GPU:0\"\n",
            "device_type: \"GPU\"\n",
            "memory_limit: 16139419648\n",
            "locality {\n",
            "  bus_id: 1\n",
            "  links {\n",
            "  }\n",
            "}\n",
            "incarnation: 8977004279785199038\n",
            "physical_device_desc: \"device: 0, name: Tesla P100-PCIE-16GB, pci bus id: 0000:00:04.0, compute capability: 6.0\"\n",
            "xla_global_id: 416903419\n",
            "]\n"
          ]
        }
      ]
    },
    {
      "cell_type": "code",
      "source": [
        "########## Training Start\n",
        "with tf.device(\"/device:GPU:0\"):\n",
        "    history = DeepLearning.fit(\n",
        "        TRAIN_GENERATOR,\n",
        "        # 데이터가 너무 클 경우 1-epoch을 못하는 경우\n",
        "        steps_per_epoch=TRAIN_GENERATOR.n / batch_size,\n",
        "        epochs=epochs,\n",
        "        callbacks=CALLBACK,\n",
        "        shuffle=True, # Training에 패턴이 존재하면 overfit이 잘 되기 때문에, Shuffle 사용해야함. 단 test에는 절대 X\n",
        "        validation_data=VALID_GENERATOR)\n",
        "###########"
      ],
      "metadata": {
        "colab": {
          "base_uri": "https://localhost:8080/"
        },
        "id": "iSzn26PHpFaa",
        "outputId": "e8d6a003-6513-456d-9a7b-70ae73be4419"
      },
      "execution_count": null,
      "outputs": [
        {
          "output_type": "stream",
          "name": "stderr",
          "text": [
            "/usr/local/lib/python3.7/dist-packages/keras_preprocessing/image/image_data_generator.py:720: UserWarning: This ImageDataGenerator specifies `featurewise_center`, but it hasn't been fit on any training data. Fit it first by calling `.fit(numpy_data)`.\n",
            "  warnings.warn('This ImageDataGenerator specifies '\n",
            "/usr/local/lib/python3.7/dist-packages/keras_preprocessing/image/image_data_generator.py:728: UserWarning: This ImageDataGenerator specifies `featurewise_std_normalization`, but it hasn't been fit on any training data. Fit it first by calling `.fit(numpy_data)`.\n",
            "  warnings.warn('This ImageDataGenerator specifies '\n"
          ]
        },
        {
          "output_type": "stream",
          "name": "stdout",
          "text": [
            "Epoch 1/30\n",
            "636/635 [==============================] - ETA: 0s - loss: 0.4834 - acc: 0.7950\n",
            "Epoch 1: val_acc did not improve from 0.78850\n",
            "635/635 [==============================] - 213s 335ms/step - loss: 0.4834 - acc: 0.7950 - val_loss: 0.5236 - val_acc: 0.7885 - lr: 0.0010\n",
            "Epoch 2/30\n",
            "636/635 [==============================] - ETA: 0s - loss: 0.4465 - acc: 0.8132\n",
            "Epoch 2: val_acc improved from 0.78850 to 0.79381, saving model to /content/drive/MyDrive/Colab Notebooks/03_MultiCenter/data/Model/VGG16-002-0.5505-0.7938.hdf5\n",
            "635/635 [==============================] - 210s 330ms/step - loss: 0.4465 - acc: 0.8132 - val_loss: 0.5505 - val_acc: 0.7938 - lr: 0.0010\n",
            "Epoch 3/30\n",
            "636/635 [==============================] - ETA: 0s - loss: 0.4221 - acc: 0.8199\n",
            "Epoch 3: val_acc did not improve from 0.79381\n",
            "635/635 [==============================] - 211s 332ms/step - loss: 0.4221 - acc: 0.8199 - val_loss: 0.4836 - val_acc: 0.7938 - lr: 0.0010\n",
            "Epoch 4/30\n",
            "636/635 [==============================] - ETA: 0s - loss: 0.3958 - acc: 0.8347\n",
            "Epoch 4: val_acc improved from 0.79381 to 0.81150, saving model to /content/drive/MyDrive/Colab Notebooks/03_MultiCenter/data/Model/VGG16-004-0.4666-0.8115.hdf5\n",
            "635/635 [==============================] - 210s 330ms/step - loss: 0.3958 - acc: 0.8347 - val_loss: 0.4666 - val_acc: 0.8115 - lr: 0.0010\n",
            "Epoch 5/30\n",
            "636/635 [==============================] - ETA: 0s - loss: 0.3773 - acc: 0.8440\n",
            "Epoch 5: val_acc did not improve from 0.81150\n",
            "635/635 [==============================] - 210s 331ms/step - loss: 0.3773 - acc: 0.8440 - val_loss: 0.4651 - val_acc: 0.8071 - lr: 0.0010\n",
            "Epoch 6/30\n",
            "636/635 [==============================] - ETA: 0s - loss: 0.3653 - acc: 0.8473\n",
            "Epoch 6: val_acc did not improve from 0.81150\n",
            "635/635 [==============================] - 207s 326ms/step - loss: 0.3653 - acc: 0.8473 - val_loss: 0.4711 - val_acc: 0.8088 - lr: 0.0010\n",
            "Epoch 7/30\n",
            "636/635 [==============================] - ETA: 0s - loss: 0.3567 - acc: 0.8531\n",
            "Epoch 7: val_acc did not improve from 0.81150\n",
            "635/635 [==============================] - 209s 329ms/step - loss: 0.3567 - acc: 0.8531 - val_loss: 0.5072 - val_acc: 0.7973 - lr: 0.0010\n",
            "Epoch 8/30\n",
            "636/635 [==============================] - ETA: 0s - loss: 0.3509 - acc: 0.8544\n",
            "Epoch 8: val_acc improved from 0.81150 to 0.81239, saving model to /content/drive/MyDrive/Colab Notebooks/03_MultiCenter/data/Model/VGG16-008-0.4605-0.8124.hdf5\n",
            "635/635 [==============================] - 216s 339ms/step - loss: 0.3509 - acc: 0.8544 - val_loss: 0.4605 - val_acc: 0.8124 - lr: 0.0010\n",
            "Epoch 9/30\n",
            "636/635 [==============================] - ETA: 0s - loss: 0.3367 - acc: 0.8634\n",
            "Epoch 9: val_acc did not improve from 0.81239\n",
            "635/635 [==============================] - 209s 328ms/step - loss: 0.3367 - acc: 0.8634 - val_loss: 0.4630 - val_acc: 0.7973 - lr: 0.0010\n",
            "Epoch 10/30\n",
            "636/635 [==============================] - ETA: 0s - loss: 0.3326 - acc: 0.8638\n",
            "Epoch 10: val_acc did not improve from 0.81239\n",
            "635/635 [==============================] - 208s 327ms/step - loss: 0.3326 - acc: 0.8638 - val_loss: 0.5031 - val_acc: 0.7903 - lr: 0.0010\n",
            "Epoch 11/30\n",
            "636/635 [==============================] - ETA: 0s - loss: 0.3275 - acc: 0.8641\n",
            "Epoch 11: val_acc did not improve from 0.81239\n",
            "\n",
            "Epoch 11: ReduceLROnPlateau reducing learning rate to 0.000800000037997961.\n",
            "635/635 [==============================] - 208s 327ms/step - loss: 0.3275 - acc: 0.8641 - val_loss: 0.4777 - val_acc: 0.8097 - lr: 0.0010\n",
            "Epoch 12/30\n",
            "636/635 [==============================] - ETA: 0s - loss: 0.3197 - acc: 0.8674\n",
            "Epoch 12: val_acc improved from 0.81239 to 0.81770, saving model to /content/drive/MyDrive/Colab Notebooks/03_MultiCenter/data/Model/VGG16-012-0.4617-0.8177.hdf5\n",
            "635/635 [==============================] - 210s 330ms/step - loss: 0.3197 - acc: 0.8674 - val_loss: 0.4617 - val_acc: 0.8177 - lr: 8.0000e-04\n",
            "Epoch 13/30\n",
            "636/635 [==============================] - ETA: 0s - loss: 0.3121 - acc: 0.8750\n",
            "Epoch 13: val_acc did not improve from 0.81770\n",
            "635/635 [==============================] - 209s 329ms/step - loss: 0.3121 - acc: 0.8750 - val_loss: 0.4626 - val_acc: 0.8150 - lr: 8.0000e-04\n",
            "Epoch 14/30\n",
            "636/635 [==============================] - ETA: 0s - loss: 0.3044 - acc: 0.8765\n",
            "Epoch 14: val_acc did not improve from 0.81770\n",
            "\n",
            "Epoch 14: ReduceLROnPlateau reducing learning rate to 0.0006400000303983689.\n",
            "635/635 [==============================] - 211s 331ms/step - loss: 0.3044 - acc: 0.8765 - val_loss: 0.4708 - val_acc: 0.8000 - lr: 8.0000e-04\n",
            "Epoch 15/30\n",
            "636/635 [==============================] - ETA: 0s - loss: 0.2958 - acc: 0.8805\n",
            "Epoch 15: val_acc did not improve from 0.81770\n",
            "635/635 [==============================] - 211s 331ms/step - loss: 0.2958 - acc: 0.8805 - val_loss: 0.4816 - val_acc: 0.7894 - lr: 6.4000e-04\n",
            "Epoch 16/30\n",
            "636/635 [==============================] - ETA: 0s - loss: 0.2895 - acc: 0.8831\n",
            "Epoch 16: val_acc did not improve from 0.81770\n",
            "635/635 [==============================] - 209s 329ms/step - loss: 0.2895 - acc: 0.8831 - val_loss: 0.4917 - val_acc: 0.8159 - lr: 6.4000e-04\n",
            "Epoch 17/30\n",
            "636/635 [==============================] - ETA: 0s - loss: 0.2884 - acc: 0.8836\n",
            "Epoch 17: val_acc improved from 0.81770 to 0.82035, saving model to /content/drive/MyDrive/Colab Notebooks/03_MultiCenter/data/Model/VGG16-017-0.4625-0.8204.hdf5\n",
            "\n",
            "Epoch 17: ReduceLROnPlateau reducing learning rate to 0.0005120000336319208.\n",
            "635/635 [==============================] - 208s 328ms/step - loss: 0.2884 - acc: 0.8836 - val_loss: 0.4625 - val_acc: 0.8204 - lr: 6.4000e-04\n",
            "Epoch 18/30\n",
            "636/635 [==============================] - ETA: 0s - loss: 0.2777 - acc: 0.8902\n",
            "Epoch 18: val_acc did not improve from 0.82035\n",
            "635/635 [==============================] - 208s 328ms/step - loss: 0.2777 - acc: 0.8902 - val_loss: 0.4561 - val_acc: 0.8097 - lr: 5.1200e-04\n",
            "Epoch 19/30\n",
            "636/635 [==============================] - ETA: 0s - loss: 0.2742 - acc: 0.8904\n",
            "Epoch 19: val_acc did not improve from 0.82035\n",
            "635/635 [==============================] - 208s 326ms/step - loss: 0.2742 - acc: 0.8904 - val_loss: 0.4858 - val_acc: 0.8062 - lr: 5.1200e-04\n",
            "Epoch 20/30\n",
            "636/635 [==============================] - ETA: 0s - loss: 0.2708 - acc: 0.8876\n",
            "Epoch 20: val_acc did not improve from 0.82035\n",
            "635/635 [==============================] - 208s 327ms/step - loss: 0.2708 - acc: 0.8876 - val_loss: 0.4681 - val_acc: 0.8168 - lr: 5.1200e-04\n",
            "Epoch 21/30\n",
            "636/635 [==============================] - ETA: 0s - loss: 0.2664 - acc: 0.8905\n",
            "Epoch 21: val_acc improved from 0.82035 to 0.82566, saving model to /content/drive/MyDrive/Colab Notebooks/03_MultiCenter/data/Model/VGG16-021-0.4519-0.8257.hdf5\n",
            "635/635 [==============================] - 210s 329ms/step - loss: 0.2664 - acc: 0.8905 - val_loss: 0.4519 - val_acc: 0.8257 - lr: 5.1200e-04\n",
            "Epoch 22/30\n",
            "636/635 [==============================] - ETA: 0s - loss: 0.2627 - acc: 0.8979\n",
            "Epoch 22: val_acc did not improve from 0.82566\n",
            "635/635 [==============================] - 209s 329ms/step - loss: 0.2627 - acc: 0.8979 - val_loss: 0.5029 - val_acc: 0.8195 - lr: 5.1200e-04\n",
            "Epoch 23/30\n",
            "636/635 [==============================] - ETA: 0s - loss: 0.2534 - acc: 0.9001\n",
            "Epoch 23: val_acc did not improve from 0.82566\n",
            "635/635 [==============================] - 210s 330ms/step - loss: 0.2534 - acc: 0.9001 - val_loss: 0.4993 - val_acc: 0.8106 - lr: 5.1200e-04\n",
            "Epoch 24/30\n",
            "636/635 [==============================] - ETA: 0s - loss: 0.2573 - acc: 0.8970\n",
            "Epoch 24: val_acc did not improve from 0.82566\n",
            "\n",
            "Epoch 24: ReduceLROnPlateau reducing learning rate to 0.00040960004553198815.\n",
            "635/635 [==============================] - 210s 331ms/step - loss: 0.2573 - acc: 0.8970 - val_loss: 0.4741 - val_acc: 0.8195 - lr: 5.1200e-04\n",
            "Epoch 25/30\n",
            "636/635 [==============================] - ETA: 0s - loss: 0.2493 - acc: 0.9006\n",
            "Epoch 25: val_acc did not improve from 0.82566\n",
            "635/635 [==============================] - 208s 328ms/step - loss: 0.2493 - acc: 0.9006 - val_loss: 0.4750 - val_acc: 0.8186 - lr: 4.0960e-04\n",
            "Epoch 26/30\n",
            "636/635 [==============================] - ETA: 0s - loss: 0.2385 - acc: 0.9048\n",
            "Epoch 26: val_acc did not improve from 0.82566\n",
            "635/635 [==============================] - 207s 326ms/step - loss: 0.2385 - acc: 0.9048 - val_loss: 0.4762 - val_acc: 0.8159 - lr: 4.0960e-04\n",
            "Epoch 27/30\n",
            "636/635 [==============================] - ETA: 0s - loss: 0.2405 - acc: 0.9046\n",
            "Epoch 27: val_acc did not improve from 0.82566\n",
            "\n",
            "Epoch 27: ReduceLROnPlateau reducing learning rate to 0.00032768002711236477.\n",
            "635/635 [==============================] - 208s 326ms/step - loss: 0.2405 - acc: 0.9046 - val_loss: 0.4841 - val_acc: 0.8177 - lr: 4.0960e-04\n",
            "Epoch 28/30\n",
            "636/635 [==============================] - ETA: 0s - loss: 0.2260 - acc: 0.9094\n",
            "Epoch 28: val_acc did not improve from 0.82566\n",
            "635/635 [==============================] - 207s 326ms/step - loss: 0.2260 - acc: 0.9094 - val_loss: 0.4861 - val_acc: 0.7991 - lr: 3.2768e-04\n",
            "Epoch 29/30\n",
            "636/635 [==============================] - ETA: 0s - loss: 0.2264 - acc: 0.9100\n",
            "Epoch 29: val_acc did not improve from 0.82566\n",
            "635/635 [==============================] - 209s 329ms/step - loss: 0.2264 - acc: 0.9100 - val_loss: 0.4916 - val_acc: 0.8177 - lr: 3.2768e-04\n",
            "Epoch 30/30\n",
            "636/635 [==============================] - ETA: 0s - loss: 0.2231 - acc: 0.9114\n",
            "Epoch 30: val_acc did not improve from 0.82566\n",
            "\n",
            "Epoch 30: ReduceLROnPlateau reducing learning rate to 0.0002621440216898918.\n",
            "635/635 [==============================] - 209s 329ms/step - loss: 0.2231 - acc: 0.9114 - val_loss: 0.5097 - val_acc: 0.8186 - lr: 3.2768e-04\n"
          ]
        }
      ]
    },
    {
      "cell_type": "code",
      "source": [
        "DeepLearning.evaluate(VALID_GENERATOR)"
      ],
      "metadata": {
        "id": "qZRpUrTQpFT5",
        "colab": {
          "base_uri": "https://localhost:8080/"
        },
        "outputId": "2d6eccc6-8595-4717-a685-36617394766d"
      },
      "execution_count": null,
      "outputs": [
        {
          "output_type": "stream",
          "name": "stderr",
          "text": [
            "/usr/local/lib/python3.7/dist-packages/keras_preprocessing/image/image_data_generator.py:720: UserWarning: This ImageDataGenerator specifies `featurewise_center`, but it hasn't been fit on any training data. Fit it first by calling `.fit(numpy_data)`.\n",
            "  warnings.warn('This ImageDataGenerator specifies '\n",
            "/usr/local/lib/python3.7/dist-packages/keras_preprocessing/image/image_data_generator.py:728: UserWarning: This ImageDataGenerator specifies `featurewise_std_normalization`, but it hasn't been fit on any training data. Fit it first by calling `.fit(numpy_data)`.\n",
            "  warnings.warn('This ImageDataGenerator specifies '\n"
          ]
        },
        {
          "output_type": "stream",
          "name": "stdout",
          "text": [
            "71/71 [==============================] - 20s 284ms/step - loss: 0.5153 - acc: 0.8097\n"
          ]
        },
        {
          "output_type": "execute_result",
          "data": {
            "text/plain": [
              "[0.5153234004974365, 0.8097345232963562]"
            ]
          },
          "metadata": {},
          "execution_count": 20
        }
      ]
    },
    {
      "cell_type": "code",
      "source": [
        "os.listdir(model_directory)"
      ],
      "metadata": {
        "colab": {
          "base_uri": "https://localhost:8080/"
        },
        "id": "mtb8d8Oma_ET",
        "outputId": "b0349ff4-c221-4afd-d1f5-cc718560bb92"
      },
      "execution_count": null,
      "outputs": [
        {
          "output_type": "execute_result",
          "data": {
            "text/plain": [
              "['VGG16-001-0.5171-0.7885.hdf5',\n",
              " 'VGG16-002-0.5505-0.7938.hdf5',\n",
              " 'VGG16-004-0.4666-0.8115.hdf5',\n",
              " 'VGG16-008-0.4605-0.8124.hdf5',\n",
              " 'VGG16-012-0.4617-0.8177.hdf5',\n",
              " 'VGG16-017-0.4625-0.8204.hdf5',\n",
              " 'VGG16-021-0.4519-0.8257.hdf5']"
            ]
          },
          "metadata": {},
          "execution_count": 24
        }
      ]
    },
    {
      "cell_type": "code",
      "source": [
        "DeepLearning.load_weights(model_directory+'VGG16-021-0.4519-0.8257.hdf5')"
      ],
      "metadata": {
        "id": "1Ja3AYgtpFQ9"
      },
      "execution_count": null,
      "outputs": []
    },
    {
      "cell_type": "code",
      "source": [
        "DeepLearning.summary()"
      ],
      "metadata": {
        "colab": {
          "base_uri": "https://localhost:8080/"
        },
        "id": "QYNM6AGMbMGM",
        "outputId": "3789be5b-cacf-430a-8fe7-659dba3f59f5"
      },
      "execution_count": null,
      "outputs": [
        {
          "output_type": "stream",
          "name": "stdout",
          "text": [
            "Model: \"model\"\n",
            "_________________________________________________________________\n",
            " Layer (type)                Output Shape              Param #   \n",
            "=================================================================\n",
            " input_1 (InputLayer)        [(None, 224, 224, 3)]     0         \n",
            "                                                                 \n",
            " block1_conv1 (Conv2D)       (None, 224, 224, 64)      1792      \n",
            "                                                                 \n",
            " block1_conv2 (Conv2D)       (None, 224, 224, 64)      36928     \n",
            "                                                                 \n",
            " block1_pool (MaxPooling2D)  (None, 112, 112, 64)      0         \n",
            "                                                                 \n",
            " block2_conv1 (Conv2D)       (None, 112, 112, 128)     73856     \n",
            "                                                                 \n",
            " block2_conv2 (Conv2D)       (None, 112, 112, 128)     147584    \n",
            "                                                                 \n",
            " block2_pool (MaxPooling2D)  (None, 56, 56, 128)       0         \n",
            "                                                                 \n",
            " block3_conv1 (Conv2D)       (None, 56, 56, 256)       295168    \n",
            "                                                                 \n",
            " block3_conv2 (Conv2D)       (None, 56, 56, 256)       590080    \n",
            "                                                                 \n",
            " block3_conv3 (Conv2D)       (None, 56, 56, 256)       590080    \n",
            "                                                                 \n",
            " block3_pool (MaxPooling2D)  (None, 28, 28, 256)       0         \n",
            "                                                                 \n",
            " block4_conv1 (Conv2D)       (None, 28, 28, 512)       1180160   \n",
            "                                                                 \n",
            " block4_conv2 (Conv2D)       (None, 28, 28, 512)       2359808   \n",
            "                                                                 \n",
            " block4_conv3 (Conv2D)       (None, 28, 28, 512)       2359808   \n",
            "                                                                 \n",
            " block4_pool (MaxPooling2D)  (None, 14, 14, 512)       0         \n",
            "                                                                 \n",
            " block5_conv1 (Conv2D)       (None, 14, 14, 512)       2359808   \n",
            "                                                                 \n",
            " block5_conv2 (Conv2D)       (None, 14, 14, 512)       2359808   \n",
            "                                                                 \n",
            " block5_conv3 (Conv2D)       (None, 14, 14, 512)       2359808   \n",
            "                                                                 \n",
            " block5_pool (MaxPooling2D)  (None, 7, 7, 512)         0         \n",
            "                                                                 \n",
            " global_average_pooling2d (G  (None, 512)              0         \n",
            " lobalAveragePooling2D)                                          \n",
            "                                                                 \n",
            " dense (Dense)               (None, 2)                 1026      \n",
            "                                                                 \n",
            "=================================================================\n",
            "Total params: 14,715,714\n",
            "Trainable params: 14,715,714\n",
            "Non-trainable params: 0\n",
            "_________________________________________________________________\n"
          ]
        }
      ]
    },
    {
      "cell_type": "code",
      "source": [
        "TEST_Prediction = DeepLearning.predict_generator(TEST_GENERATOR, verbose=1)"
      ],
      "metadata": {
        "colab": {
          "base_uri": "https://localhost:8080/"
        },
        "id": "pC-SZEbIbMCr",
        "outputId": "3e47edaf-c07c-4bfe-bd02-05d1aac0aba8"
      },
      "execution_count": null,
      "outputs": [
        {
          "output_type": "stream",
          "name": "stderr",
          "text": [
            "/usr/local/lib/python3.7/dist-packages/ipykernel_launcher.py:1: UserWarning: `Model.predict_generator` is deprecated and will be removed in a future version. Please use `Model.predict`, which supports generators.\n",
            "  \"\"\"Entry point for launching an IPython kernel.\n",
            "/usr/local/lib/python3.7/dist-packages/keras_preprocessing/image/image_data_generator.py:720: UserWarning: This ImageDataGenerator specifies `featurewise_center`, but it hasn't been fit on any training data. Fit it first by calling `.fit(numpy_data)`.\n",
            "  warnings.warn('This ImageDataGenerator specifies '\n",
            "/usr/local/lib/python3.7/dist-packages/keras_preprocessing/image/image_data_generator.py:728: UserWarning: This ImageDataGenerator specifies `featurewise_std_normalization`, but it hasn't been fit on any training data. Fit it first by calling `.fit(numpy_data)`.\n",
            "  warnings.warn('This ImageDataGenerator specifies '\n"
          ]
        },
        {
          "output_type": "stream",
          "name": "stdout",
          "text": [
            "79/79 [==============================] - 279s 4s/step\n"
          ]
        }
      ]
    },
    {
      "cell_type": "code",
      "source": [
        "Result = pd.DataFrame(TEST_Prediction)"
      ],
      "metadata": {
        "id": "sdJb70YKbL_9"
      },
      "execution_count": null,
      "outputs": []
    },
    {
      "cell_type": "code",
      "source": [
        "skplt.metrics.plot_roc(TEST_GENERATOR.classes.tolist(), Result)"
      ],
      "metadata": {
        "colab": {
          "base_uri": "https://localhost:8080/",
          "height": 313
        },
        "id": "Evui9AuQbL8o",
        "outputId": "0752ac0c-f526-45ee-c19e-d1d0b1b61df9"
      },
      "execution_count": null,
      "outputs": [
        {
          "output_type": "execute_result",
          "data": {
            "text/plain": [
              "<matplotlib.axes._subplots.AxesSubplot at 0x7f15018f0690>"
            ]
          },
          "metadata": {},
          "execution_count": 29
        },
        {
          "output_type": "display_data",
          "data": {
            "text/plain": [
              "<Figure size 432x288 with 1 Axes>"
            ],
            "image/png": "[encoded data removed]"
          },
          "metadata": {
            "needs_background": "light"
          }
        }
      ]
    },
    {
      "cell_type": "code",
      "source": [
        "import PIL\n",
        "\n",
        "def grad_cam(model, img, layer_name=\"block5_conv3\", label_name=None, category_id=None):\n",
        "    img_tensor = np.expand_dims(img, axis=0)\n",
        "    conv_layer = model.get_layer(layer_name)\n",
        "    heatmap_model = tf.keras.Model(inputs=[model.inputs], outputs=[conv_layer.output, model.output])\n",
        "\n",
        "    with tf.GradientTape() as gtape:\n",
        "        conv_output, predictions = heatmap_model(img_tensor)\n",
        "        if category_id == None:\n",
        "            category_id = np.argmax(predictions[0])\n",
        "        if label_name:\n",
        "            print(label_name[category_id])\n",
        "        output = predictions[:, category_id]\n",
        "        grads = gtape.gradient(output, conv_output)\n",
        "        pooled_grads = tf.reduce_mean(grads, axis=(0, 1, 2))\n",
        "\n",
        "    heatmap = tf.reduce_mean(tf.multiply(pooled_grads, conv_output), axis=-1)\n",
        "    heatmap = np.maximum(heatmap, 0)\n",
        "    max_heat = np.max(heatmap)\n",
        "    if max_heat == 0:\n",
        "        max_heat = 1e-10\n",
        "    heatmap /= max_heat\n",
        "    return np.squeeze(heatmap), predictions\n",
        "\n",
        "def grad_camAll(model, img, layer_name=\"conv4_block6_out\", blockSize=7, label_name=None, category_id=None):\n",
        "    img_tensor = np.expand_dims(img, axis=0)\n",
        "    conv_layer = model.get_layer(layer_name)\n",
        "    heatmap_model = Model([model.inputs], [conv_layer.output, model.output])\n",
        "\n",
        "    with tf.GradientTape() as gtape:\n",
        "        conv_output, predictions = heatmap_model(img_tensor)\n",
        "        if category_id == None:\n",
        "            category_id = np.argmax(predictions[0])\n",
        "        if label_name:\n",
        "            print(label_name[category_id])\n",
        "        output = predictions[:, category_id]\n",
        "        grads = gtape.gradient(output, conv_output)\n",
        "        pooled_grads = tf.reduce_mean(grads, axis=(0, 1, 2))\n",
        "    \n",
        "    res = sp.ndimage.zoom(conv_output[0], (224/blockSize, 224/blockSize, 1), order=2)   \n",
        "    heatmap = tf.reduce_mean(tf.multiply(pooled_grads, res), axis=-1)\n",
        "    heatmap = np.maximum(heatmap, 0)\n",
        "    max_heat = np.max(heatmap)\n",
        "    if max_heat == 0:\n",
        "        max_heat = 1e-10\n",
        "    heatmap /= max_heat\n",
        "    return np.squeeze(heatmap)\n",
        "\n",
        "def show_imgwithheat(img_path, heatmap, alpha=0.4, return_array=False):\n",
        "    img = cv2.imread(img_path)\n",
        "    heatmap = cv2.resize(heatmap, (img.shape[1], img.shape[0]))\n",
        "    heatmap = (heatmap*255).astype(\"uint8\")\n",
        "    heatmap = cv2.applyColorMap(heatmap, cv2.COLORMAP_JET)\n",
        "    superimposed_img = heatmap * alpha + img\n",
        "    superimposed_img = np.clip(superimposed_img, 0, 255).astype(\"uint8\")\n",
        "    superimposed_img = cv2.cvtColor(superimposed_img, cv2.COLOR_BGR2RGB)\n",
        "\n",
        "    imgwithheat = PIL.Image.fromarray(superimposed_img)  \n",
        "    display(imgwithheat)\n",
        "\n",
        "    if return_array:\n",
        "        return superimposed_img"
      ],
      "metadata": {
        "id": "YgNm6b61bL6D"
      },
      "execution_count": null,
      "outputs": []
    },
    {
      "cell_type": "code",
      "source": [
        "# CAM Generator\n",
        "CAM_GENERATOR = DATAGEN_TEST.flow_from_directory(\n",
        "    test_directory,\n",
        "    target_size = (img_width, img_height),\n",
        "    batch_size = 1,\n",
        "    shuffle = False,\n",
        "    class_mode='binary')"
      ],
      "metadata": {
        "colab": {
          "base_uri": "https://localhost:8080/"
        },
        "id": "gZzXyHtlbL3X",
        "outputId": "bc798539-bb90-4817-f0ec-7b3f3a6ca729"
      },
      "execution_count": null,
      "outputs": [
        {
          "output_type": "stream",
          "name": "stdout",
          "text": [
            "Found 1257 images belonging to 2 classes.\n"
          ]
        }
      ]
    },
    {
      "cell_type": "code",
      "source": [
        "Iterator = 535\n",
        "\n",
        "# item 받아오기\n",
        "Image, Label = CAM_GENERATOR.__getitem__(Iterator)\n",
        "Image = Image[0]\n",
        "print(Label)\n",
        "\n",
        "\n",
        "# grad_cam을 활용하여 heatmap 가져오기\n",
        "HEATMAP1, pred1 = grad_cam(model = DeepLearning, img = Image, layer_name = 'block5_conv3', category_id=0)\n",
        "heatmap_resize = cv2.resize(HEATMAP1, (224, 224))\n",
        "heatmap_resize_255 = (heatmap_resize*255).astype(\"uint8\")\n",
        "heatmap1 = cv2.applyColorMap(255-heatmap_resize_255, cv2.COLORMAP_JET ) / 255\n",
        "heatmap1[:, :, 2] -= .5\n",
        "heatmap1[(heatmap1[:, :, 2] < 0), 2] = 0\n",
        "\n",
        "fig, ax = plt.subplots( nrows=3, ncols=1 )  # create figure & 1 axis\n",
        "fig.set_size_inches(9.0, 3.0)\n",
        "ax = plt.subplot(1,3,1)\n",
        "ax.imshow(Image)\n",
        "ax = plt.subplot(1,3,2)\n",
        "ax.imshow(Image)\n",
        "ax.imshow(heatmap1, cmap=plt.cm.jet, alpha=0.3, interpolation='nearest' )\n",
        "ax = plt.subplot(1,3,3)\n",
        "ax.imshow(Image)\n",
        "ax.imshow(heatmap1, cmap=plt.cm.jet, alpha=0.3, interpolation='nearest' )\n",
        "\n",
        "plt.subplots_adjust(left = 0.06, wspace = 0.25, hspace = 0.1, bottom = 0.025, top = 0.975)\n",
        "pred=round(pred1.numpy()[0][0],3)\n",
        "plt.show()"
      ],
      "metadata": {
        "colab": {
          "base_uri": "https://localhost:8080/",
          "height": 316
        },
        "id": "LABr3fT3d49d",
        "outputId": "6e2ca060-d020-4c98-c28e-ccfd4fc13762"
      },
      "execution_count": null,
      "outputs": [
        {
          "output_type": "stream",
          "name": "stderr",
          "text": [
            "/usr/local/lib/python3.7/dist-packages/keras_preprocessing/image/image_data_generator.py:720: UserWarning: This ImageDataGenerator specifies `featurewise_center`, but it hasn't been fit on any training data. Fit it first by calling `.fit(numpy_data)`.\n",
            "  warnings.warn('This ImageDataGenerator specifies '\n",
            "/usr/local/lib/python3.7/dist-packages/keras_preprocessing/image/image_data_generator.py:728: UserWarning: This ImageDataGenerator specifies `featurewise_std_normalization`, but it hasn't been fit on any training data. Fit it first by calling `.fit(numpy_data)`.\n",
            "  warnings.warn('This ImageDataGenerator specifies '\n"
          ]
        },
        {
          "output_type": "stream",
          "name": "stdout",
          "text": [
            "[0.]\n"
          ]
        },
        {
          "output_type": "display_data",
          "data": {
            "text/plain": [
              "<Figure size 648x216 with 3 Axes>"
            ],
            "image/png": "[encoded data removed]"
          },
          "metadata": {
            "needs_background": "light"
          }
        }
      ]
    }
  ]
}